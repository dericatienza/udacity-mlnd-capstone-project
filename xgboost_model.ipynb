{
 "cells": [
  {
   "cell_type": "markdown",
   "metadata": {},
   "source": [
    "# XGBoost model"
   ]
  },
  {
   "cell_type": "code",
   "execution_count": 1,
   "metadata": {},
   "outputs": [],
   "source": [
    "import os\n",
    "import matplotlib.pyplot as plt\n",
    "import numpy as np \n",
    "import pandas as pd \n",
    "\n",
    "import boto3\n",
    "import sagemaker\n",
    "from sagemaker import get_execution_role\n",
    "from sagemaker.amazon.amazon_estimator import get_image_uri\n",
    "\n",
    "%matplotlib inline"
   ]
  },
  {
   "cell_type": "code",
   "execution_count": 2,
   "metadata": {},
   "outputs": [],
   "source": [
    "# sagemaker session, role\n",
    "sagemaker_session = sagemaker.Session()\n",
    "role = sagemaker.get_execution_role()\n",
    "\n",
    "# S3 bucket name\n",
    "bucket = sagemaker_session.default_bucket()"
   ]
  },
  {
   "cell_type": "code",
   "execution_count": 5,
   "metadata": {},
   "outputs": [],
   "source": [
    "data_dir = 'data'"
   ]
  },
  {
   "cell_type": "code",
   "execution_count": 6,
   "metadata": {},
   "outputs": [],
   "source": [
    "prefix = 'vehicles-xgboost'\n",
    "\n",
    "test_location = sagemaker_session.upload_data(os.path.join(data_dir, 'test.csv'), key_prefix=prefix)\n",
    "val_location = sagemaker_session.upload_data(os.path.join(data_dir, 'validation.csv'), key_prefix=prefix)\n",
    "train_location = sagemaker_session.upload_data(os.path.join(data_dir, 'train.csv'), key_prefix=prefix)"
   ]
  },
  {
   "cell_type": "code",
   "execution_count": 10,
   "metadata": {},
   "outputs": [
    {
     "name": "stderr",
     "output_type": "stream",
     "text": [
      "WARNING:root:There is a more up to date SageMaker XGBoost image. To use the newer image, please set 'repo_version'='0.90-1'. For example:\n",
      "\tget_image_uri(region, 'xgboost', '0.90-1').\n"
     ]
    }
   ],
   "source": [
    "container = get_image_uri(sagemaker_session.boto_region_name, 'xgboost')\n",
    "\n",
    "xgb = sagemaker.estimator.Estimator(container,\n",
    "                                    role,\n",
    "                                    train_instance_count=1,\n",
    "                                    train_instance_type='ml.m4.xlarge',\n",
    "                                    output_path='s3://{}/{}/output'.format(sagemaker_session.default_bucket(), prefix),\n",
    "                                    sagemaker_session=sagemaker_session)"
   ]
  },
  {
   "cell_type": "code",
   "execution_count": 11,
   "metadata": {},
   "outputs": [],
   "source": [
    "xgb.set_hyperparameters(gamma=4,\n",
    "                        min_child_weight=6,\n",
    "                        subsample=0.8,\n",
    "                        objective='reg:linear',\n",
    "                        early_stopping_rounds=10,\n",
    "                        num_round=150)"
   ]
  },
  {
   "cell_type": "code",
   "execution_count": 12,
   "metadata": {
    "scrolled": true
   },
   "outputs": [
    {
     "name": "stdout",
     "output_type": "stream",
     "text": [
      "2020-03-22 05:17:51 Starting - Starting the training job...\n",
      "2020-03-22 05:17:52 Starting - Launching requested ML instances......\n",
      "2020-03-22 05:18:52 Starting - Preparing the instances for training......\n",
      "2020-03-22 05:20:04 Downloading - Downloading input data\n",
      "2020-03-22 05:20:04 Training - Downloading the training image..\u001b[34mArguments: train\u001b[0m\n",
      "\u001b[34m[2020-03-22:05:20:25:INFO] Running standalone xgboost training.\u001b[0m\n",
      "\u001b[34m[2020-03-22:05:20:25:INFO] File size need to be processed in the node: 46.93mb. Available memory size in the node: 8519.16mb\u001b[0m\n",
      "\u001b[34m[2020-03-22:05:20:25:INFO] Determined delimiter of CSV input is ','\u001b[0m\n",
      "\u001b[34m[05:20:25] S3DistributionType set as FullyReplicated\u001b[0m\n",
      "\u001b[34m[05:20:25] 53440x300 matrix with 16032000 entries loaded from /opt/ml/input/data/train?format=csv&label_column=0&delimiter=,\u001b[0m\n",
      "\u001b[34m[2020-03-22:05:20:25:INFO] Determined delimiter of CSV input is ','\u001b[0m\n",
      "\u001b[34m[05:20:25] S3DistributionType set as FullyReplicated\u001b[0m\n",
      "\u001b[34m[05:20:25] 26721x300 matrix with 8016300 entries loaded from /opt/ml/input/data/validation?format=csv&label_column=0&delimiter=,\u001b[0m\n",
      "\u001b[34m[05:20:26] src/tree/updater_prune.cc:74: tree pruning end, 1 roots, 102 extra nodes, 0 pruned nodes, max_depth=6\u001b[0m\n",
      "\u001b[34m[0]#011train-rmse:18650.1#011validation-rmse:18564.1\u001b[0m\n",
      "\u001b[34mMultiple eval metrics have been passed: 'validation-rmse' will be used for early stopping.\n",
      "\u001b[0m\n",
      "\u001b[34mWill train until validation-rmse hasn't improved in 10 rounds.\u001b[0m\n",
      "\u001b[34m[05:20:26] src/tree/updater_prune.cc:74: tree pruning end, 1 roots, 102 extra nodes, 0 pruned nodes, max_depth=6\u001b[0m\n",
      "\u001b[34m[1]#011train-rmse:14262#011validation-rmse:14180.3\u001b[0m\n",
      "\u001b[34m[05:20:27] src/tree/updater_prune.cc:74: tree pruning end, 1 roots, 120 extra nodes, 0 pruned nodes, max_depth=6\u001b[0m\n",
      "\u001b[34m[2]#011train-rmse:11402.4#011validation-rmse:11344.2\u001b[0m\n",
      "\u001b[34m[05:20:27] src/tree/updater_prune.cc:74: tree pruning end, 1 roots, 90 extra nodes, 0 pruned nodes, max_depth=6\u001b[0m\n",
      "\u001b[34m[3]#011train-rmse:9684.96#011validation-rmse:9638\u001b[0m\n",
      "\u001b[34m[05:20:27] src/tree/updater_prune.cc:74: tree pruning end, 1 roots, 94 extra nodes, 0 pruned nodes, max_depth=6\u001b[0m\n",
      "\u001b[34m[4]#011train-rmse:8604.72#011validation-rmse:8575.1\u001b[0m\n",
      "\u001b[34m[05:20:28] src/tree/updater_prune.cc:74: tree pruning end, 1 roots, 100 extra nodes, 0 pruned nodes, max_depth=6\u001b[0m\n",
      "\u001b[34m[5]#011train-rmse:7988.56#011validation-rmse:7976.9\u001b[0m\n",
      "\u001b[34m[05:20:28] src/tree/updater_prune.cc:74: tree pruning end, 1 roots, 78 extra nodes, 0 pruned nodes, max_depth=6\u001b[0m\n",
      "\u001b[34m[6]#011train-rmse:7631.59#011validation-rmse:7630.88\u001b[0m\n",
      "\u001b[34m[05:20:28] src/tree/updater_prune.cc:74: tree pruning end, 1 roots, 98 extra nodes, 0 pruned nodes, max_depth=6\u001b[0m\n",
      "\u001b[34m[7]#011train-rmse:7371.38#011validation-rmse:7385.83\u001b[0m\n",
      "\u001b[34m[05:20:29] src/tree/updater_prune.cc:74: tree pruning end, 1 roots, 90 extra nodes, 0 pruned nodes, max_depth=6\u001b[0m\n",
      "\u001b[34m[8]#011train-rmse:7204.83#011validation-rmse:7238.84\u001b[0m\n",
      "\u001b[34m[05:20:29] src/tree/updater_prune.cc:74: tree pruning end, 1 roots, 86 extra nodes, 0 pruned nodes, max_depth=6\u001b[0m\n",
      "\u001b[34m[9]#011train-rmse:7063.62#011validation-rmse:7102.77\u001b[0m\n",
      "\u001b[34m[05:20:29] src/tree/updater_prune.cc:74: tree pruning end, 1 roots, 58 extra nodes, 0 pruned nodes, max_depth=6\u001b[0m\n",
      "\u001b[34m[10]#011train-rmse:6989.92#011validation-rmse:7043.97\u001b[0m\n",
      "\u001b[34m[05:20:30] src/tree/updater_prune.cc:74: tree pruning end, 1 roots, 80 extra nodes, 0 pruned nodes, max_depth=6\u001b[0m\n",
      "\u001b[34m[11]#011train-rmse:6891.76#011validation-rmse:6951.45\u001b[0m\n",
      "\u001b[34m[05:20:30] src/tree/updater_prune.cc:74: tree pruning end, 1 roots, 84 extra nodes, 0 pruned nodes, max_depth=6\u001b[0m\n",
      "\u001b[34m[12]#011train-rmse:6837.81#011validation-rmse:6904.32\u001b[0m\n",
      "\u001b[34m[05:20:31] src/tree/updater_prune.cc:74: tree pruning end, 1 roots, 94 extra nodes, 0 pruned nodes, max_depth=6\u001b[0m\n",
      "\u001b[34m[13]#011train-rmse:6775.29#011validation-rmse:6847.53\u001b[0m\n",
      "\u001b[34m[05:20:31] src/tree/updater_prune.cc:74: tree pruning end, 1 roots, 70 extra nodes, 0 pruned nodes, max_depth=6\u001b[0m\n",
      "\u001b[34m[14]#011train-rmse:6713.9#011validation-rmse:6789.81\u001b[0m\n",
      "\u001b[34m[05:20:31] src/tree/updater_prune.cc:74: tree pruning end, 1 roots, 76 extra nodes, 0 pruned nodes, max_depth=6\u001b[0m\n",
      "\u001b[34m[15]#011train-rmse:6673.82#011validation-rmse:6752.71\u001b[0m\n",
      "\u001b[34m[05:20:32] src/tree/updater_prune.cc:74: tree pruning end, 1 roots, 36 extra nodes, 0 pruned nodes, max_depth=6\u001b[0m\n",
      "\u001b[34m[16]#011train-rmse:6641.66#011validation-rmse:6726.15\u001b[0m\n",
      "\u001b[34m[05:20:32] src/tree/updater_prune.cc:74: tree pruning end, 1 roots, 50 extra nodes, 0 pruned nodes, max_depth=6\u001b[0m\n",
      "\u001b[34m[17]#011train-rmse:6602.56#011validation-rmse:6687.57\u001b[0m\n",
      "\u001b[34m[05:20:32] src/tree/updater_prune.cc:74: tree pruning end, 1 roots, 48 extra nodes, 0 pruned nodes, max_depth=6\u001b[0m\n",
      "\u001b[34m[18]#011train-rmse:6574.25#011validation-rmse:6666.35\u001b[0m\n",
      "\u001b[34m[05:20:33] src/tree/updater_prune.cc:74: tree pruning end, 1 roots, 72 extra nodes, 0 pruned nodes, max_depth=6\u001b[0m\n",
      "\u001b[34m[19]#011train-rmse:6546.66#011validation-rmse:6640.58\u001b[0m\n",
      "\u001b[34m[05:20:33] src/tree/updater_prune.cc:74: tree pruning end, 1 roots, 62 extra nodes, 0 pruned nodes, max_depth=6\u001b[0m\n",
      "\u001b[34m[20]#011train-rmse:6519.02#011validation-rmse:6617.23\u001b[0m\n",
      "\u001b[34m[05:20:33] src/tree/updater_prune.cc:74: tree pruning end, 1 roots, 96 extra nodes, 0 pruned nodes, max_depth=6\u001b[0m\n",
      "\u001b[34m[21]#011train-rmse:6459.24#011validation-rmse:6560.14\u001b[0m\n",
      "\u001b[34m[05:20:34] src/tree/updater_prune.cc:74: tree pruning end, 1 roots, 54 extra nodes, 0 pruned nodes, max_depth=6\u001b[0m\n",
      "\u001b[34m[22]#011train-rmse:6400.91#011validation-rmse:6514.18\u001b[0m\n",
      "\u001b[34m[05:20:34] src/tree/updater_prune.cc:74: tree pruning end, 1 roots, 38 extra nodes, 0 pruned nodes, max_depth=6\u001b[0m\n",
      "\u001b[34m[23]#011train-rmse:6381.54#011validation-rmse:6494.52\u001b[0m\n",
      "\u001b[34m[05:20:34] src/tree/updater_prune.cc:74: tree pruning end, 1 roots, 68 extra nodes, 0 pruned nodes, max_depth=6\u001b[0m\n",
      "\u001b[34m[24]#011train-rmse:6359.33#011validation-rmse:6475.01\u001b[0m\n",
      "\u001b[34m[05:20:35] src/tree/updater_prune.cc:74: tree pruning end, 1 roots, 58 extra nodes, 0 pruned nodes, max_depth=6\u001b[0m\n",
      "\u001b[34m[25]#011train-rmse:6333.97#011validation-rmse:6453.51\u001b[0m\n",
      "\u001b[34m[05:20:35] src/tree/updater_prune.cc:74: tree pruning end, 1 roots, 82 extra nodes, 0 pruned nodes, max_depth=6\u001b[0m\n",
      "\u001b[34m[26]#011train-rmse:6296.74#011validation-rmse:6421.66\u001b[0m\n",
      "\u001b[34m[05:20:35] src/tree/updater_prune.cc:74: tree pruning end, 1 roots, 52 extra nodes, 0 pruned nodes, max_depth=6\u001b[0m\n",
      "\u001b[34m[27]#011train-rmse:6272.35#011validation-rmse:6397.36\u001b[0m\n",
      "\u001b[34m[05:20:36] src/tree/updater_prune.cc:74: tree pruning end, 1 roots, 46 extra nodes, 0 pruned nodes, max_depth=6\u001b[0m\n",
      "\u001b[34m[28]#011train-rmse:6252.8#011validation-rmse:6376.65\u001b[0m\n",
      "\u001b[34m[05:20:36] src/tree/updater_prune.cc:74: tree pruning end, 1 roots, 50 extra nodes, 0 pruned nodes, max_depth=6\u001b[0m\n",
      "\u001b[34m[29]#011train-rmse:6232.63#011validation-rmse:6362.71\u001b[0m\n",
      "\u001b[34m[05:20:36] src/tree/updater_prune.cc:74: tree pruning end, 1 roots, 78 extra nodes, 0 pruned nodes, max_depth=6\u001b[0m\n",
      "\u001b[34m[30]#011train-rmse:6210.88#011validation-rmse:6345.73\u001b[0m\n",
      "\u001b[34m[05:20:37] src/tree/updater_prune.cc:74: tree pruning end, 1 roots, 48 extra nodes, 0 pruned nodes, max_depth=6\u001b[0m\n",
      "\u001b[34m[31]#011train-rmse:6194.56#011validation-rmse:6331.18\u001b[0m\n",
      "\u001b[34m[05:20:37] src/tree/updater_prune.cc:74: tree pruning end, 1 roots, 80 extra nodes, 0 pruned nodes, max_depth=6\u001b[0m\n",
      "\u001b[34m[32]#011train-rmse:6178.04#011validation-rmse:6316.59\u001b[0m\n",
      "\u001b[34m[05:20:37] src/tree/updater_prune.cc:74: tree pruning end, 1 roots, 58 extra nodes, 0 pruned nodes, max_depth=6\u001b[0m\n",
      "\u001b[34m[33]#011train-rmse:6156.06#011validation-rmse:6299.41\u001b[0m\n",
      "\u001b[34m[05:20:37] src/tree/updater_prune.cc:74: tree pruning end, 1 roots, 44 extra nodes, 0 pruned nodes, max_depth=6\u001b[0m\n",
      "\n",
      "2020-03-22 05:20:33 Training - Training image download completed. Training in progress.\u001b[34m[34]#011train-rmse:6138.63#011validation-rmse:6289.68\u001b[0m\n",
      "\u001b[34m[05:20:38] src/tree/updater_prune.cc:74: tree pruning end, 1 roots, 62 extra nodes, 0 pruned nodes, max_depth=6\u001b[0m\n",
      "\u001b[34m[35]#011train-rmse:6112.54#011validation-rmse:6265.68\u001b[0m\n",
      "\u001b[34m[05:20:38] src/tree/updater_prune.cc:74: tree pruning end, 1 roots, 68 extra nodes, 0 pruned nodes, max_depth=6\u001b[0m\n",
      "\u001b[34m[36]#011train-rmse:6090.34#011validation-rmse:6243.83\u001b[0m\n",
      "\u001b[34m[05:20:38] src/tree/updater_prune.cc:74: tree pruning end, 1 roots, 52 extra nodes, 0 pruned nodes, max_depth=6\u001b[0m\n",
      "\u001b[34m[37]#011train-rmse:6074.69#011validation-rmse:6232.61\u001b[0m\n",
      "\u001b[34m[05:20:39] src/tree/updater_prune.cc:74: tree pruning end, 1 roots, 56 extra nodes, 0 pruned nodes, max_depth=6\u001b[0m\n",
      "\u001b[34m[38]#011train-rmse:6061.16#011validation-rmse:6221.09\u001b[0m\n",
      "\u001b[34m[05:20:39] src/tree/updater_prune.cc:74: tree pruning end, 1 roots, 98 extra nodes, 0 pruned nodes, max_depth=6\u001b[0m\n",
      "\u001b[34m[39]#011train-rmse:6042.61#011validation-rmse:6205.92\u001b[0m\n",
      "\u001b[34m[05:20:39] src/tree/updater_prune.cc:74: tree pruning end, 1 roots, 44 extra nodes, 0 pruned nodes, max_depth=6\u001b[0m\n",
      "\u001b[34m[40]#011train-rmse:6029.49#011validation-rmse:6195.92\u001b[0m\n",
      "\u001b[34m[05:20:40] src/tree/updater_prune.cc:74: tree pruning end, 1 roots, 82 extra nodes, 0 pruned nodes, max_depth=6\u001b[0m\n",
      "\u001b[34m[41]#011train-rmse:6001.31#011validation-rmse:6171.88\u001b[0m\n",
      "\u001b[34m[05:20:40] src/tree/updater_prune.cc:74: tree pruning end, 1 roots, 54 extra nodes, 0 pruned nodes, max_depth=6\u001b[0m\n",
      "\u001b[34m[42]#011train-rmse:5965.36#011validation-rmse:6142.51\u001b[0m\n",
      "\u001b[34m[05:20:40] src/tree/updater_prune.cc:74: tree pruning end, 1 roots, 76 extra nodes, 0 pruned nodes, max_depth=6\u001b[0m\n",
      "\u001b[34m[43]#011train-rmse:5949.33#011validation-rmse:6128.64\u001b[0m\n",
      "\u001b[34m[05:20:41] src/tree/updater_prune.cc:74: tree pruning end, 1 roots, 58 extra nodes, 0 pruned nodes, max_depth=6\u001b[0m\n",
      "\u001b[34m[44]#011train-rmse:5936.06#011validation-rmse:6119.07\u001b[0m\n",
      "\u001b[34m[05:20:41] src/tree/updater_prune.cc:74: tree pruning end, 1 roots, 66 extra nodes, 0 pruned nodes, max_depth=6\u001b[0m\n",
      "\u001b[34m[45]#011train-rmse:5924.23#011validation-rmse:6111.15\u001b[0m\n",
      "\u001b[34m[05:20:41] src/tree/updater_prune.cc:74: tree pruning end, 1 roots, 52 extra nodes, 0 pruned nodes, max_depth=6\u001b[0m\n",
      "\u001b[34m[46]#011train-rmse:5911.35#011validation-rmse:6100.19\u001b[0m\n",
      "\u001b[34m[05:20:42] src/tree/updater_prune.cc:74: tree pruning end, 1 roots, 66 extra nodes, 0 pruned nodes, max_depth=6\u001b[0m\n",
      "\u001b[34m[47]#011train-rmse:5886.19#011validation-rmse:6080.55\u001b[0m\n",
      "\u001b[34m[05:20:42] src/tree/updater_prune.cc:74: tree pruning end, 1 roots, 60 extra nodes, 0 pruned nodes, max_depth=6\u001b[0m\n",
      "\u001b[34m[48]#011train-rmse:5874.84#011validation-rmse:6070.37\u001b[0m\n",
      "\u001b[34m[05:20:42] src/tree/updater_prune.cc:74: tree pruning end, 1 roots, 66 extra nodes, 0 pruned nodes, max_depth=6\u001b[0m\n",
      "\u001b[34m[49]#011train-rmse:5845.34#011validation-rmse:6048.83\u001b[0m\n",
      "\u001b[34m[05:20:43] src/tree/updater_prune.cc:74: tree pruning end, 1 roots, 48 extra nodes, 0 pruned nodes, max_depth=6\u001b[0m\n",
      "\u001b[34m[50]#011train-rmse:5830.43#011validation-rmse:6042.44\u001b[0m\n",
      "\u001b[34m[05:20:43] src/tree/updater_prune.cc:74: tree pruning end, 1 roots, 62 extra nodes, 0 pruned nodes, max_depth=6\u001b[0m\n",
      "\u001b[34m[51]#011train-rmse:5807.43#011validation-rmse:6020.88\u001b[0m\n",
      "\u001b[34m[05:20:43] src/tree/updater_prune.cc:74: tree pruning end, 1 roots, 100 extra nodes, 0 pruned nodes, max_depth=6\u001b[0m\n",
      "\u001b[34m[52]#011train-rmse:5788.28#011validation-rmse:6003.1\u001b[0m\n",
      "\u001b[34m[05:20:44] src/tree/updater_prune.cc:74: tree pruning end, 1 roots, 54 extra nodes, 0 pruned nodes, max_depth=6\u001b[0m\n",
      "\u001b[34m[53]#011train-rmse:5778.51#011validation-rmse:5994.09\u001b[0m\n",
      "\u001b[34m[05:20:44] src/tree/updater_prune.cc:74: tree pruning end, 1 roots, 56 extra nodes, 0 pruned nodes, max_depth=6\u001b[0m\n",
      "\u001b[34m[54]#011train-rmse:5767.96#011validation-rmse:5985.77\u001b[0m\n",
      "\u001b[34m[05:20:44] src/tree/updater_prune.cc:74: tree pruning end, 1 roots, 44 extra nodes, 0 pruned nodes, max_depth=6\u001b[0m\n",
      "\u001b[34m[55]#011train-rmse:5752.27#011validation-rmse:5972.04\u001b[0m\n",
      "\u001b[34m[05:20:45] src/tree/updater_prune.cc:74: tree pruning end, 1 roots, 38 extra nodes, 0 pruned nodes, max_depth=6\u001b[0m\n",
      "\u001b[34m[56]#011train-rmse:5744.54#011validation-rmse:5963.07\u001b[0m\n",
      "\u001b[34m[05:20:45] src/tree/updater_prune.cc:74: tree pruning end, 1 roots, 38 extra nodes, 0 pruned nodes, max_depth=6\u001b[0m\n",
      "\u001b[34m[57]#011train-rmse:5734.9#011validation-rmse:5953.98\u001b[0m\n",
      "\u001b[34m[05:20:45] src/tree/updater_prune.cc:74: tree pruning end, 1 roots, 54 extra nodes, 0 pruned nodes, max_depth=6\u001b[0m\n",
      "\u001b[34m[58]#011train-rmse:5725.12#011validation-rmse:5947.85\u001b[0m\n",
      "\u001b[34m[05:20:46] src/tree/updater_prune.cc:74: tree pruning end, 1 roots, 70 extra nodes, 0 pruned nodes, max_depth=6\u001b[0m\n",
      "\u001b[34m[59]#011train-rmse:5717.01#011validation-rmse:5940.98\u001b[0m\n",
      "\u001b[34m[05:20:46] src/tree/updater_prune.cc:74: tree pruning end, 1 roots, 54 extra nodes, 0 pruned nodes, max_depth=6\u001b[0m\n",
      "\u001b[34m[60]#011train-rmse:5704.47#011validation-rmse:5930.67\u001b[0m\n",
      "\u001b[34m[05:20:46] src/tree/updater_prune.cc:74: tree pruning end, 1 roots, 70 extra nodes, 0 pruned nodes, max_depth=6\u001b[0m\n",
      "\u001b[34m[61]#011train-rmse:5697.25#011validation-rmse:5923.85\u001b[0m\n",
      "\u001b[34m[05:20:47] src/tree/updater_prune.cc:74: tree pruning end, 1 roots, 46 extra nodes, 0 pruned nodes, max_depth=6\u001b[0m\n",
      "\u001b[34m[62]#011train-rmse:5689.48#011validation-rmse:5918.23\u001b[0m\n",
      "\u001b[34m[05:20:47] src/tree/updater_prune.cc:74: tree pruning end, 1 roots, 58 extra nodes, 0 pruned nodes, max_depth=6\u001b[0m\n",
      "\u001b[34m[63]#011train-rmse:5674.89#011validation-rmse:5906.52\u001b[0m\n",
      "\u001b[34m[05:20:47] src/tree/updater_prune.cc:74: tree pruning end, 1 roots, 70 extra nodes, 0 pruned nodes, max_depth=6\u001b[0m\n",
      "\u001b[34m[64]#011train-rmse:5665.1#011validation-rmse:5899.39\u001b[0m\n",
      "\u001b[34m[05:20:48] src/tree/updater_prune.cc:74: tree pruning end, 1 roots, 56 extra nodes, 0 pruned nodes, max_depth=6\u001b[0m\n",
      "\u001b[34m[65]#011train-rmse:5657.5#011validation-rmse:5895.44\u001b[0m\n",
      "\u001b[34m[05:20:48] src/tree/updater_prune.cc:74: tree pruning end, 1 roots, 92 extra nodes, 0 pruned nodes, max_depth=6\u001b[0m\n",
      "\u001b[34m[66]#011train-rmse:5640.94#011validation-rmse:5883.1\u001b[0m\n",
      "\u001b[34m[05:20:48] src/tree/updater_prune.cc:74: tree pruning end, 1 roots, 42 extra nodes, 0 pruned nodes, max_depth=6\u001b[0m\n",
      "\u001b[34m[67]#011train-rmse:5634.19#011validation-rmse:5877.49\u001b[0m\n",
      "\u001b[34m[05:20:49] src/tree/updater_prune.cc:74: tree pruning end, 1 roots, 64 extra nodes, 0 pruned nodes, max_depth=6\u001b[0m\n",
      "\u001b[34m[68]#011train-rmse:5612.43#011validation-rmse:5860.47\u001b[0m\n",
      "\u001b[34m[05:20:49] src/tree/updater_prune.cc:74: tree pruning end, 1 roots, 28 extra nodes, 0 pruned nodes, max_depth=6\u001b[0m\n",
      "\u001b[34m[69]#011train-rmse:5604.55#011validation-rmse:5854.24\u001b[0m\n",
      "\u001b[34m[05:20:49] src/tree/updater_prune.cc:74: tree pruning end, 1 roots, 54 extra nodes, 0 pruned nodes, max_depth=6\u001b[0m\n",
      "\u001b[34m[70]#011train-rmse:5593.81#011validation-rmse:5845.37\u001b[0m\n",
      "\u001b[34m[05:20:50] src/tree/updater_prune.cc:74: tree pruning end, 1 roots, 54 extra nodes, 0 pruned nodes, max_depth=6\u001b[0m\n",
      "\u001b[34m[71]#011train-rmse:5581.42#011validation-rmse:5838.66\u001b[0m\n",
      "\u001b[34m[05:20:50] src/tree/updater_prune.cc:74: tree pruning end, 1 roots, 32 extra nodes, 0 pruned nodes, max_depth=6\u001b[0m\n",
      "\u001b[34m[72]#011train-rmse:5576.74#011validation-rmse:5834.64\u001b[0m\n",
      "\u001b[34m[05:20:50] src/tree/updater_prune.cc:74: tree pruning end, 1 roots, 62 extra nodes, 0 pruned nodes, max_depth=6\u001b[0m\n",
      "\u001b[34m[73]#011train-rmse:5569.02#011validation-rmse:5828.6\u001b[0m\n",
      "\u001b[34m[05:20:51] src/tree/updater_prune.cc:74: tree pruning end, 1 roots, 74 extra nodes, 0 pruned nodes, max_depth=6\u001b[0m\n",
      "\u001b[34m[74]#011train-rmse:5560.29#011validation-rmse:5823.43\u001b[0m\n",
      "\u001b[34m[05:20:51] src/tree/updater_prune.cc:74: tree pruning end, 1 roots, 48 extra nodes, 0 pruned nodes, max_depth=6\u001b[0m\n",
      "\u001b[34m[75]#011train-rmse:5549.06#011validation-rmse:5814.95\u001b[0m\n",
      "\u001b[34m[05:20:51] src/tree/updater_prune.cc:74: tree pruning end, 1 roots, 62 extra nodes, 0 pruned nodes, max_depth=6\u001b[0m\n",
      "\u001b[34m[76]#011train-rmse:5540.89#011validation-rmse:5808.7\u001b[0m\n",
      "\u001b[34m[05:20:52] src/tree/updater_prune.cc:74: tree pruning end, 1 roots, 52 extra nodes, 0 pruned nodes, max_depth=6\u001b[0m\n",
      "\u001b[34m[77]#011train-rmse:5534.35#011validation-rmse:5801.93\u001b[0m\n",
      "\u001b[34m[05:20:52] src/tree/updater_prune.cc:74: tree pruning end, 1 roots, 62 extra nodes, 0 pruned nodes, max_depth=6\u001b[0m\n",
      "\u001b[34m[78]#011train-rmse:5517.51#011validation-rmse:5790.2\u001b[0m\n",
      "\u001b[34m[05:20:52] src/tree/updater_prune.cc:74: tree pruning end, 1 roots, 48 extra nodes, 0 pruned nodes, max_depth=6\u001b[0m\n",
      "\u001b[34m[79]#011train-rmse:5508.45#011validation-rmse:5782.95\u001b[0m\n",
      "\u001b[34m[05:20:53] src/tree/updater_prune.cc:74: tree pruning end, 1 roots, 72 extra nodes, 0 pruned nodes, max_depth=6\u001b[0m\n",
      "\u001b[34m[80]#011train-rmse:5501.02#011validation-rmse:5779.25\u001b[0m\n",
      "\u001b[34m[05:20:53] src/tree/updater_prune.cc:74: tree pruning end, 1 roots, 48 extra nodes, 0 pruned nodes, max_depth=6\u001b[0m\n",
      "\u001b[34m[81]#011train-rmse:5493.59#011validation-rmse:5774.19\u001b[0m\n",
      "\u001b[34m[05:20:53] src/tree/updater_prune.cc:74: tree pruning end, 1 roots, 76 extra nodes, 0 pruned nodes, max_depth=6\u001b[0m\n",
      "\u001b[34m[82]#011train-rmse:5480.5#011validation-rmse:5768.66\u001b[0m\n",
      "\u001b[34m[05:20:54] src/tree/updater_prune.cc:74: tree pruning end, 1 roots, 88 extra nodes, 0 pruned nodes, max_depth=6\u001b[0m\n",
      "\u001b[34m[83]#011train-rmse:5466#011validation-rmse:5755.09\u001b[0m\n",
      "\u001b[34m[05:20:54] src/tree/updater_prune.cc:74: tree pruning end, 1 roots, 46 extra nodes, 0 pruned nodes, max_depth=6\u001b[0m\n",
      "\u001b[34m[84]#011train-rmse:5460.84#011validation-rmse:5752.24\u001b[0m\n",
      "\u001b[34m[05:20:54] src/tree/updater_prune.cc:74: tree pruning end, 1 roots, 36 extra nodes, 0 pruned nodes, max_depth=6\u001b[0m\n",
      "\u001b[34m[85]#011train-rmse:5455.6#011validation-rmse:5747.59\u001b[0m\n",
      "\u001b[34m[05:20:55] src/tree/updater_prune.cc:74: tree pruning end, 1 roots, 48 extra nodes, 0 pruned nodes, max_depth=6\u001b[0m\n",
      "\u001b[34m[86]#011train-rmse:5441.62#011validation-rmse:5736.33\u001b[0m\n",
      "\u001b[34m[05:20:55] src/tree/updater_prune.cc:74: tree pruning end, 1 roots, 64 extra nodes, 0 pruned nodes, max_depth=6\u001b[0m\n",
      "\u001b[34m[87]#011train-rmse:5427.9#011validation-rmse:5725.42\u001b[0m\n",
      "\u001b[34m[05:20:55] src/tree/updater_prune.cc:74: tree pruning end, 1 roots, 48 extra nodes, 0 pruned nodes, max_depth=6\u001b[0m\n",
      "\u001b[34m[88]#011train-rmse:5422.96#011validation-rmse:5722.23\u001b[0m\n",
      "\u001b[34m[05:20:56] src/tree/updater_prune.cc:74: tree pruning end, 1 roots, 82 extra nodes, 0 pruned nodes, max_depth=6\u001b[0m\n",
      "\u001b[34m[89]#011train-rmse:5408.44#011validation-rmse:5713.85\u001b[0m\n",
      "\u001b[34m[05:20:56] src/tree/updater_prune.cc:74: tree pruning end, 1 roots, 76 extra nodes, 0 pruned nodes, max_depth=6\u001b[0m\n",
      "\u001b[34m[90]#011train-rmse:5396.79#011validation-rmse:5704.85\u001b[0m\n",
      "\u001b[34m[05:20:56] src/tree/updater_prune.cc:74: tree pruning end, 1 roots, 42 extra nodes, 0 pruned nodes, max_depth=6\u001b[0m\n",
      "\u001b[34m[91]#011train-rmse:5392.01#011validation-rmse:5701.35\u001b[0m\n",
      "\u001b[34m[05:20:56] src/tree/updater_prune.cc:74: tree pruning end, 1 roots, 84 extra nodes, 0 pruned nodes, max_depth=6\u001b[0m\n",
      "\u001b[34m[92]#011train-rmse:5385.72#011validation-rmse:5698.33\u001b[0m\n",
      "\u001b[34m[05:20:57] src/tree/updater_prune.cc:74: tree pruning end, 1 roots, 54 extra nodes, 0 pruned nodes, max_depth=6\u001b[0m\n",
      "\u001b[34m[93]#011train-rmse:5377.49#011validation-rmse:5694.85\u001b[0m\n",
      "\u001b[34m[05:20:57] src/tree/updater_prune.cc:74: tree pruning end, 1 roots, 54 extra nodes, 0 pruned nodes, max_depth=6\u001b[0m\n",
      "\u001b[34m[94]#011train-rmse:5366.86#011validation-rmse:5688.71\u001b[0m\n",
      "\u001b[34m[05:20:57] src/tree/updater_prune.cc:74: tree pruning end, 1 roots, 52 extra nodes, 0 pruned nodes, max_depth=6\u001b[0m\n",
      "\u001b[34m[95]#011train-rmse:5362.79#011validation-rmse:5685.31\u001b[0m\n",
      "\u001b[34m[05:20:58] src/tree/updater_prune.cc:74: tree pruning end, 1 roots, 80 extra nodes, 0 pruned nodes, max_depth=6\u001b[0m\n",
      "\u001b[34m[96]#011train-rmse:5355.75#011validation-rmse:5681.08\u001b[0m\n",
      "\u001b[34m[05:20:58] src/tree/updater_prune.cc:74: tree pruning end, 1 roots, 64 extra nodes, 0 pruned nodes, max_depth=6\u001b[0m\n",
      "\u001b[34m[97]#011train-rmse:5351.16#011validation-rmse:5676.44\u001b[0m\n",
      "\u001b[34m[05:20:58] src/tree/updater_prune.cc:74: tree pruning end, 1 roots, 84 extra nodes, 0 pruned nodes, max_depth=6\u001b[0m\n",
      "\u001b[34m[98]#011train-rmse:5340.98#011validation-rmse:5666.27\u001b[0m\n",
      "\u001b[34m[05:20:59] src/tree/updater_prune.cc:74: tree pruning end, 1 roots, 60 extra nodes, 0 pruned nodes, max_depth=6\u001b[0m\n",
      "\u001b[34m[99]#011train-rmse:5335.33#011validation-rmse:5663.61\u001b[0m\n",
      "\u001b[34m[05:20:59] src/tree/updater_prune.cc:74: tree pruning end, 1 roots, 36 extra nodes, 0 pruned nodes, max_depth=6\u001b[0m\n",
      "\u001b[34m[100]#011train-rmse:5331.1#011validation-rmse:5662.2\u001b[0m\n",
      "\u001b[34m[05:20:59] src/tree/updater_prune.cc:74: tree pruning end, 1 roots, 60 extra nodes, 0 pruned nodes, max_depth=6\u001b[0m\n",
      "\u001b[34m[101]#011train-rmse:5324.27#011validation-rmse:5656.35\u001b[0m\n",
      "\u001b[34m[05:21:00] src/tree/updater_prune.cc:74: tree pruning end, 1 roots, 64 extra nodes, 0 pruned nodes, max_depth=6\u001b[0m\n",
      "\u001b[34m[102]#011train-rmse:5310.42#011validation-rmse:5647.34\u001b[0m\n",
      "\u001b[34m[05:21:00] src/tree/updater_prune.cc:74: tree pruning end, 1 roots, 44 extra nodes, 0 pruned nodes, max_depth=6\u001b[0m\n",
      "\u001b[34m[103]#011train-rmse:5304.68#011validation-rmse:5643.64\u001b[0m\n",
      "\u001b[34m[05:21:00] src/tree/updater_prune.cc:74: tree pruning end, 1 roots, 32 extra nodes, 0 pruned nodes, max_depth=6\u001b[0m\n",
      "\u001b[34m[104]#011train-rmse:5301.32#011validation-rmse:5641.44\u001b[0m\n",
      "\u001b[34m[05:21:01] src/tree/updater_prune.cc:74: tree pruning end, 1 roots, 84 extra nodes, 0 pruned nodes, max_depth=6\u001b[0m\n",
      "\u001b[34m[105]#011train-rmse:5284.44#011validation-rmse:5626\u001b[0m\n",
      "\u001b[34m[05:21:01] src/tree/updater_prune.cc:74: tree pruning end, 1 roots, 56 extra nodes, 0 pruned nodes, max_depth=6\u001b[0m\n",
      "\u001b[34m[106]#011train-rmse:5279.45#011validation-rmse:5621.02\u001b[0m\n",
      "\u001b[34m[05:21:01] src/tree/updater_prune.cc:74: tree pruning end, 1 roots, 82 extra nodes, 0 pruned nodes, max_depth=6\u001b[0m\n",
      "\u001b[34m[107]#011train-rmse:5268.3#011validation-rmse:5615.89\u001b[0m\n",
      "\u001b[34m[05:21:02] src/tree/updater_prune.cc:74: tree pruning end, 1 roots, 52 extra nodes, 0 pruned nodes, max_depth=6\u001b[0m\n",
      "\u001b[34m[108]#011train-rmse:5259.49#011validation-rmse:5612.46\u001b[0m\n",
      "\u001b[34m[05:21:02] src/tree/updater_prune.cc:74: tree pruning end, 1 roots, 52 extra nodes, 0 pruned nodes, max_depth=6\u001b[0m\n",
      "\u001b[34m[109]#011train-rmse:5250.42#011validation-rmse:5607.52\u001b[0m\n",
      "\u001b[34m[05:21:02] src/tree/updater_prune.cc:74: tree pruning end, 1 roots, 72 extra nodes, 0 pruned nodes, max_depth=6\u001b[0m\n",
      "\u001b[34m[110]#011train-rmse:5239.81#011validation-rmse:5603.7\u001b[0m\n",
      "\u001b[34m[05:21:03] src/tree/updater_prune.cc:74: tree pruning end, 1 roots, 52 extra nodes, 0 pruned nodes, max_depth=6\u001b[0m\n",
      "\u001b[34m[111]#011train-rmse:5232.73#011validation-rmse:5597.03\u001b[0m\n",
      "\u001b[34m[05:21:03] src/tree/updater_prune.cc:74: tree pruning end, 1 roots, 90 extra nodes, 0 pruned nodes, max_depth=6\u001b[0m\n",
      "\u001b[34m[112]#011train-rmse:5222.69#011validation-rmse:5589.88\u001b[0m\n",
      "\u001b[34m[05:21:03] src/tree/updater_prune.cc:74: tree pruning end, 1 roots, 74 extra nodes, 0 pruned nodes, max_depth=6\u001b[0m\n",
      "\u001b[34m[113]#011train-rmse:5218.07#011validation-rmse:5586.75\u001b[0m\n",
      "\u001b[34m[05:21:04] src/tree/updater_prune.cc:74: tree pruning end, 1 roots, 36 extra nodes, 0 pruned nodes, max_depth=6\u001b[0m\n",
      "\u001b[34m[114]#011train-rmse:5213.82#011validation-rmse:5582.61\u001b[0m\n",
      "\u001b[34m[05:21:04] src/tree/updater_prune.cc:74: tree pruning end, 1 roots, 52 extra nodes, 0 pruned nodes, max_depth=6\u001b[0m\n",
      "\u001b[34m[115]#011train-rmse:5210.65#011validation-rmse:5581.26\u001b[0m\n",
      "\u001b[34m[05:21:04] src/tree/updater_prune.cc:74: tree pruning end, 1 roots, 66 extra nodes, 0 pruned nodes, max_depth=6\u001b[0m\n",
      "\u001b[34m[116]#011train-rmse:5200.76#011validation-rmse:5575.12\u001b[0m\n",
      "\u001b[34m[05:21:05] src/tree/updater_prune.cc:74: tree pruning end, 1 roots, 52 extra nodes, 0 pruned nodes, max_depth=6\u001b[0m\n",
      "\u001b[34m[117]#011train-rmse:5189.44#011validation-rmse:5566.36\u001b[0m\n",
      "\u001b[34m[05:21:05] src/tree/updater_prune.cc:74: tree pruning end, 1 roots, 46 extra nodes, 0 pruned nodes, max_depth=6\u001b[0m\n",
      "\u001b[34m[118]#011train-rmse:5180.25#011validation-rmse:5558.02\u001b[0m\n",
      "\u001b[34m[05:21:05] src/tree/updater_prune.cc:74: tree pruning end, 1 roots, 52 extra nodes, 0 pruned nodes, max_depth=6\u001b[0m\n",
      "\u001b[34m[119]#011train-rmse:5176.82#011validation-rmse:5554.51\u001b[0m\n",
      "\u001b[34m[05:21:06] src/tree/updater_prune.cc:74: tree pruning end, 1 roots, 74 extra nodes, 0 pruned nodes, max_depth=6\u001b[0m\n",
      "\u001b[34m[120]#011train-rmse:5171.88#011validation-rmse:5550.46\u001b[0m\n",
      "\u001b[34m[05:21:06] src/tree/updater_prune.cc:74: tree pruning end, 1 roots, 40 extra nodes, 0 pruned nodes, max_depth=6\u001b[0m\n",
      "\u001b[34m[121]#011train-rmse:5167.54#011validation-rmse:5547.65\u001b[0m\n",
      "\u001b[34m[05:21:06] src/tree/updater_prune.cc:74: tree pruning end, 1 roots, 28 extra nodes, 0 pruned nodes, max_depth=6\u001b[0m\n",
      "\u001b[34m[122]#011train-rmse:5163.92#011validation-rmse:5543.96\u001b[0m\n",
      "\u001b[34m[05:21:07] src/tree/updater_prune.cc:74: tree pruning end, 1 roots, 62 extra nodes, 0 pruned nodes, max_depth=6\u001b[0m\n",
      "\u001b[34m[123]#011train-rmse:5159.75#011validation-rmse:5541.87\u001b[0m\n",
      "\u001b[34m[05:21:07] src/tree/updater_prune.cc:74: tree pruning end, 1 roots, 72 extra nodes, 0 pruned nodes, max_depth=6\u001b[0m\n",
      "\u001b[34m[124]#011train-rmse:5154.39#011validation-rmse:5539.37\u001b[0m\n",
      "\u001b[34m[05:21:07] src/tree/updater_prune.cc:74: tree pruning end, 1 roots, 46 extra nodes, 0 pruned nodes, max_depth=6\u001b[0m\n",
      "\u001b[34m[125]#011train-rmse:5151.86#011validation-rmse:5537.85\u001b[0m\n",
      "\n",
      "2020-03-22 05:21:19 Uploading - Uploading generated training model\u001b[34m[05:21:08] src/tree/updater_prune.cc:74: tree pruning end, 1 roots, 68 extra nodes, 0 pruned nodes, max_depth=6\u001b[0m\n",
      "\u001b[34m[126]#011train-rmse:5138.17#011validation-rmse:5525.22\u001b[0m\n",
      "\u001b[34m[05:21:08] src/tree/updater_prune.cc:74: tree pruning end, 1 roots, 50 extra nodes, 0 pruned nodes, max_depth=6\u001b[0m\n",
      "\u001b[34m[127]#011train-rmse:5131.02#011validation-rmse:5519.71\u001b[0m\n",
      "\u001b[34m[05:21:08] src/tree/updater_prune.cc:74: tree pruning end, 1 roots, 66 extra nodes, 0 pruned nodes, max_depth=6\u001b[0m\n",
      "\u001b[34m[128]#011train-rmse:5127.2#011validation-rmse:5517\u001b[0m\n",
      "\u001b[34m[05:21:09] src/tree/updater_prune.cc:74: tree pruning end, 1 roots, 66 extra nodes, 0 pruned nodes, max_depth=6\u001b[0m\n",
      "\u001b[34m[129]#011train-rmse:5119.28#011validation-rmse:5510.56\u001b[0m\n",
      "\u001b[34m[05:21:09] src/tree/updater_prune.cc:74: tree pruning end, 1 roots, 42 extra nodes, 0 pruned nodes, max_depth=6\u001b[0m\n",
      "\u001b[34m[130]#011train-rmse:5116.11#011validation-rmse:5508.46\u001b[0m\n",
      "\u001b[34m[05:21:09] src/tree/updater_prune.cc:74: tree pruning end, 1 roots, 68 extra nodes, 0 pruned nodes, max_depth=6\u001b[0m\n",
      "\u001b[34m[131]#011train-rmse:5104.48#011validation-rmse:5503.13\u001b[0m\n",
      "\u001b[34m[05:21:10] src/tree/updater_prune.cc:74: tree pruning end, 1 roots, 72 extra nodes, 0 pruned nodes, max_depth=6\u001b[0m\n",
      "\u001b[34m[132]#011train-rmse:5101.17#011validation-rmse:5500.57\u001b[0m\n",
      "\u001b[34m[05:21:10] src/tree/updater_prune.cc:74: tree pruning end, 1 roots, 46 extra nodes, 0 pruned nodes, max_depth=6\u001b[0m\n",
      "\u001b[34m[133]#011train-rmse:5093.41#011validation-rmse:5495.94\u001b[0m\n",
      "\u001b[34m[05:21:10] src/tree/updater_prune.cc:74: tree pruning end, 1 roots, 66 extra nodes, 0 pruned nodes, max_depth=6\u001b[0m\n",
      "\u001b[34m[134]#011train-rmse:5089.74#011validation-rmse:5494.07\u001b[0m\n",
      "\u001b[34m[05:21:11] src/tree/updater_prune.cc:74: tree pruning end, 1 roots, 84 extra nodes, 0 pruned nodes, max_depth=6\u001b[0m\n",
      "\u001b[34m[135]#011train-rmse:5078.86#011validation-rmse:5485.29\u001b[0m\n",
      "\u001b[34m[05:21:11] src/tree/updater_prune.cc:74: tree pruning end, 1 roots, 58 extra nodes, 0 pruned nodes, max_depth=6\u001b[0m\n",
      "\u001b[34m[136]#011train-rmse:5076.44#011validation-rmse:5484.27\u001b[0m\n",
      "\u001b[34m[05:21:11] src/tree/updater_prune.cc:74: tree pruning end, 1 roots, 92 extra nodes, 0 pruned nodes, max_depth=6\u001b[0m\n",
      "\u001b[34m[137]#011train-rmse:5060.22#011validation-rmse:5474.63\u001b[0m\n",
      "\u001b[34m[05:21:12] src/tree/updater_prune.cc:74: tree pruning end, 1 roots, 66 extra nodes, 0 pruned nodes, max_depth=6\u001b[0m\n",
      "\u001b[34m[138]#011train-rmse:5052.9#011validation-rmse:5472.6\u001b[0m\n",
      "\u001b[34m[05:21:12] src/tree/updater_prune.cc:74: tree pruning end, 1 roots, 46 extra nodes, 0 pruned nodes, max_depth=6\u001b[0m\n",
      "\u001b[34m[139]#011train-rmse:5047.58#011validation-rmse:5469.27\u001b[0m\n",
      "\u001b[34m[05:21:12] src/tree/updater_prune.cc:74: tree pruning end, 1 roots, 64 extra nodes, 0 pruned nodes, max_depth=6\u001b[0m\n",
      "\u001b[34m[140]#011train-rmse:5041.11#011validation-rmse:5466.77\u001b[0m\n",
      "\u001b[34m[05:21:12] src/tree/updater_prune.cc:74: tree pruning end, 1 roots, 56 extra nodes, 0 pruned nodes, max_depth=6\u001b[0m\n",
      "\u001b[34m[141]#011train-rmse:5036.99#011validation-rmse:5465.45\u001b[0m\n",
      "\u001b[34m[05:21:13] src/tree/updater_prune.cc:74: tree pruning end, 1 roots, 42 extra nodes, 0 pruned nodes, max_depth=6\u001b[0m\n",
      "\u001b[34m[142]#011train-rmse:5033.14#011validation-rmse:5464.42\u001b[0m\n",
      "\u001b[34m[05:21:13] src/tree/updater_prune.cc:74: tree pruning end, 1 roots, 32 extra nodes, 0 pruned nodes, max_depth=6\u001b[0m\n",
      "\u001b[34m[143]#011train-rmse:5031.77#011validation-rmse:5464.17\u001b[0m\n",
      "\u001b[34m[05:21:13] src/tree/updater_prune.cc:74: tree pruning end, 1 roots, 40 extra nodes, 0 pruned nodes, max_depth=6\u001b[0m\n",
      "\u001b[34m[144]#011train-rmse:5029.13#011validation-rmse:5462.94\u001b[0m\n",
      "\u001b[34m[05:21:14] src/tree/updater_prune.cc:74: tree pruning end, 1 roots, 44 extra nodes, 0 pruned nodes, max_depth=6\u001b[0m\n",
      "\u001b[34m[145]#011train-rmse:5026.52#011validation-rmse:5461.08\u001b[0m\n",
      "\u001b[34m[05:21:14] src/tree/updater_prune.cc:74: tree pruning end, 1 roots, 54 extra nodes, 0 pruned nodes, max_depth=6\u001b[0m\n",
      "\u001b[34m[146]#011train-rmse:5024.64#011validation-rmse:5459.53\u001b[0m\n",
      "\u001b[34m[05:21:14] src/tree/updater_prune.cc:74: tree pruning end, 1 roots, 82 extra nodes, 0 pruned nodes, max_depth=6\u001b[0m\n",
      "\u001b[34m[147]#011train-rmse:5016.1#011validation-rmse:5452.93\u001b[0m\n",
      "\u001b[34m[05:21:15] src/tree/updater_prune.cc:74: tree pruning end, 1 roots, 58 extra nodes, 0 pruned nodes, max_depth=6\u001b[0m\n",
      "\u001b[34m[148]#011train-rmse:5011.34#011validation-rmse:5450.53\u001b[0m\n",
      "\u001b[34m[05:21:15] src/tree/updater_prune.cc:74: tree pruning end, 1 roots, 66 extra nodes, 0 pruned nodes, max_depth=6\u001b[0m\n",
      "\u001b[34m[149]#011train-rmse:5008.61#011validation-rmse:5449.64\u001b[0m\n",
      "\n",
      "2020-03-22 05:21:26 Completed - Training job completed\n",
      "Training seconds: 94\n",
      "Billable seconds: 94\n"
     ]
    }
   ],
   "source": [
    "s3_input_train = sagemaker.s3_input(s3_data=train_location, content_type='csv')\n",
    "s3_input_validation = sagemaker.s3_input(s3_data=val_location, content_type='csv')\n",
    "\n",
    "xgb.fit({'train': s3_input_train, 'validation': s3_input_validation})"
   ]
  },
  {
   "cell_type": "code",
   "execution_count": 13,
   "metadata": {},
   "outputs": [],
   "source": [
    "xgb_transformer = xgb.transformer(instance_count = 1, instance_type = 'ml.m4.xlarge')"
   ]
  },
  {
   "cell_type": "code",
   "execution_count": 14,
   "metadata": {},
   "outputs": [
    {
     "name": "stdout",
     "output_type": "stream",
     "text": [
      "....................\u001b[34mArguments: serve\u001b[0m\n",
      "\u001b[34m[2020-03-22 05:26:56 +0000] [1] [INFO] Starting gunicorn 19.7.1\u001b[0m\n",
      "\u001b[34m[2020-03-22 05:26:56 +0000] [1] [INFO] Listening at: http://0.0.0.0:8080 (1)\u001b[0m\n",
      "\u001b[34m[2020-03-22 05:26:56 +0000] [1] [INFO] Using worker: gevent\u001b[0m\n",
      "\u001b[34m[2020-03-22 05:26:56 +0000] [38] [INFO] Booting worker with pid: 38\u001b[0m\n",
      "\u001b[34m[2020-03-22 05:26:56 +0000] [39] [INFO] Booting worker with pid: 39\u001b[0m\n",
      "\u001b[34m[2020-03-22 05:26:56 +0000] [40] [INFO] Booting worker with pid: 40\u001b[0m\n",
      "\u001b[34m[2020-03-22:05:26:56:INFO] Model loaded successfully for worker : 38\u001b[0m\n",
      "\u001b[34m[2020-03-22:05:26:56:INFO] Model loaded successfully for worker : 39\u001b[0m\n",
      "\u001b[34m[2020-03-22 05:26:56 +0000] [41] [INFO] Booting worker with pid: 41\u001b[0m\n",
      "\u001b[34m[2020-03-22:05:26:56:INFO] Model loaded successfully for worker : 40\u001b[0m\n",
      "\u001b[34m[2020-03-22:05:26:56:INFO] Model loaded successfully for worker : 41\u001b[0m\n",
      "\u001b[32m2020-03-22T05:27:25.782:[sagemaker logs]: MaxConcurrentTransforms=4, MaxPayloadInMB=6, BatchStrategy=MULTI_RECORD\u001b[0m\n",
      "\u001b[34m[2020-03-22:05:27:26:INFO] Sniff delimiter as ','\u001b[0m\n",
      "\u001b[34m[2020-03-22:05:27:26:INFO] Determined delimiter of CSV input is ','\u001b[0m\n",
      "\u001b[34m[2020-03-22:05:27:26:INFO] Sniff delimiter as ','\u001b[0m\n",
      "\u001b[34m[2020-03-22:05:27:26:INFO] Determined delimiter of CSV input is ','\u001b[0m\n",
      "\u001b[34m[2020-03-22:05:27:26:INFO] Sniff delimiter as ','\u001b[0m\n",
      "\u001b[34m[2020-03-22:05:27:26:INFO] Determined delimiter of CSV input is ','\u001b[0m\n",
      "\u001b[35m[2020-03-22:05:27:26:INFO] Sniff delimiter as ','\u001b[0m\n",
      "\u001b[35m[2020-03-22:05:27:26:INFO] Determined delimiter of CSV input is ','\u001b[0m\n",
      "\u001b[35m[2020-03-22:05:27:26:INFO] Sniff delimiter as ','\u001b[0m\n",
      "\u001b[35m[2020-03-22:05:27:26:INFO] Determined delimiter of CSV input is ','\u001b[0m\n",
      "\u001b[35m[2020-03-22:05:27:26:INFO] Sniff delimiter as ','\u001b[0m\n",
      "\u001b[35m[2020-03-22:05:27:26:INFO] Determined delimiter of CSV input is ','\u001b[0m\n",
      "\n"
     ]
    }
   ],
   "source": [
    "xgb_transformer.transform(test_location, content_type='text/csv', split_type='Line')\n",
    "\n",
    "xgb_transformer.wait()"
   ]
  },
  {
   "cell_type": "code",
   "execution_count": 15,
   "metadata": {},
   "outputs": [
    {
     "name": "stdout",
     "output_type": "stream",
     "text": [
      "download: s3://sagemaker-ap-southeast-1-364665614436/xgboost-2020-03-22-05-23-46-554/test.csv.out to data/test.csv.out\n"
     ]
    }
   ],
   "source": [
    "!aws s3 cp --recursive $xgb_transformer.output_path $data_dir"
   ]
  },
  {
   "cell_type": "code",
   "execution_count": 16,
   "metadata": {},
   "outputs": [],
   "source": [
    "y_test = pd.read_csv(os.path.join(data_dir, 'test_y.csv'), header=None)\n",
    "y_pred = pd.read_csv(os.path.join(data_dir, 'test.csv.out'), header=None)\n",
    "# X_test_np = X_test.astype('float32')\n",
    "# y_test_np = y_test.astype('float32')"
   ]
  },
  {
   "cell_type": "code",
   "execution_count": 19,
   "metadata": {},
   "outputs": [
    {
     "data": {
      "text/plain": [
       "Text(0.5, 1.0, 'True Price vs Predicted Price')"
      ]
     },
     "execution_count": 19,
     "metadata": {},
     "output_type": "execute_result"
    },
    {
     "data": {
      "image/png": "[encoded data removed]",
      "text/plain": [
       "<Figure size 432x288 with 1 Axes>"
      ]
     },
     "metadata": {},
     "output_type": "display_data"
    }
   ],
   "source": [
    "plt.scatter(y_test, y_pred, alpha=1/5)\n",
    "plt.xlabel(\"True Price\")\n",
    "plt.ylabel(\"Predicted Price\")\n",
    "plt.title(\"True Price vs Predicted Price\")"
   ]
  },
  {
   "cell_type": "code",
   "execution_count": 24,
   "metadata": {},
   "outputs": [],
   "source": [
    "labels = np.squeeze(y_test)\n",
    "predictions = np.squeeze(y_pred)"
   ]
  },
  {
   "cell_type": "code",
   "execution_count": 25,
   "metadata": {},
   "outputs": [
    {
     "name": "stdout",
     "output_type": "stream",
     "text": [
      "R-squared score: 0.77085918688348\n"
     ]
    }
   ],
   "source": [
    "from sklearn.metrics import r2_score\n",
    "\n",
    "score = r2_score(labels, predictions)\n",
    "\n",
    "print('R-squared score: {}'.format(score))"
   ]
  },
  {
   "cell_type": "code",
   "execution_count": 27,
   "metadata": {},
   "outputs": [
    {
     "name": "stdout",
     "output_type": "stream",
     "text": [
      "Min distance: 0.15234379999856174\n",
      "Max distance: 81837.5498047\n",
      "Mean distance: 3493.059007430272\n"
     ]
    }
   ],
   "source": [
    "distances = np.abs(labels - predictions)\n",
    "\n",
    "max_distance = np.max(distances)\n",
    "min_distance = np.min(distances)\n",
    "mean_distance = np.mean(distances)\n",
    "\n",
    "print('Min distance: {}'.format(min_distance))\n",
    "print('Max distance: {}'.format(max_distance))\n",
    "print('Mean distance: {}'.format(mean_distance))"
   ]
  }
 ],
 "metadata": {
  "kernelspec": {
   "display_name": "conda_pytorch_p36",
   "language": "python",
   "name": "conda_pytorch_p36"
  },
  "language_info": {
   "codemirror_mode": {
    "name": "ipython",
    "version": 3
   },
   "file_extension": ".py",
   "mimetype": "text/x-python",
   "name": "python",
   "nbconvert_exporter": "python",
   "pygments_lexer": "ipython3",
   "version": "3.6.5"
  }
 },
 "nbformat": 4,
 "nbformat_minor": 4
}
