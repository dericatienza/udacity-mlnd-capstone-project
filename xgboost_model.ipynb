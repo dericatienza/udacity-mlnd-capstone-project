{
 "cells": [
  {
   "cell_type": "markdown",
   "metadata": {},
   "source": [
    "# XGBoost model"
   ]
  },
  {
   "cell_type": "code",
   "execution_count": 1,
   "metadata": {},
   "outputs": [],
   "source": [
    "import os\n",
    "import matplotlib.pyplot as plt\n",
    "import numpy as np \n",
    "import pandas as pd \n",
    "\n",
    "import boto3\n",
    "import sagemaker\n",
    "from sagemaker import get_execution_role\n",
    "from sagemaker.amazon.amazon_estimator import get_image_uri\n",
    "\n",
    "%matplotlib inline"
   ]
  },
  {
   "cell_type": "code",
   "execution_count": 2,
   "metadata": {},
   "outputs": [],
   "source": [
    "# sagemaker session, role\n",
    "sagemaker_session = sagemaker.Session()\n",
    "role = sagemaker.get_execution_role()\n",
    "\n",
    "# S3 bucket name\n",
    "bucket = sagemaker_session.default_bucket()"
   ]
  },
  {
   "cell_type": "code",
   "execution_count": 3,
   "metadata": {},
   "outputs": [],
   "source": [
    "data_dir = 'data'"
   ]
  },
  {
   "cell_type": "code",
   "execution_count": 4,
   "metadata": {},
   "outputs": [],
   "source": [
    "prefix = 'vehicles-xgboost'\n",
    "\n",
    "test_location = sagemaker_session.upload_data(os.path.join(data_dir, 'test.csv'), key_prefix=prefix)\n",
    "val_location = sagemaker_session.upload_data(os.path.join(data_dir, 'validation.csv'), key_prefix=prefix)\n",
    "train_location = sagemaker_session.upload_data(os.path.join(data_dir, 'train.csv'), key_prefix=prefix)"
   ]
  },
  {
   "cell_type": "code",
   "execution_count": 20,
   "metadata": {},
   "outputs": [
    {
     "name": "stderr",
     "output_type": "stream",
     "text": [
      "WARNING:root:There is a more up to date SageMaker XGBoost image. To use the newer image, please set 'repo_version'='0.90-1'. For example:\n",
      "\tget_image_uri(region, 'xgboost', '0.90-1').\n"
     ]
    }
   ],
   "source": [
    "container = get_image_uri(sagemaker_session.boto_region_name, 'xgboost')\n",
    "\n",
    "xgb = sagemaker.estimator.Estimator(container,\n",
    "                                    role,\n",
    "                                    train_instance_count=1,\n",
    "                                    train_instance_type='ml.m4.xlarge',\n",
    "                                    output_path='s3://{}/{}/output'.format(sagemaker_session.default_bucket(), prefix),\n",
    "                                    sagemaker_session=sagemaker_session)"
   ]
  },
  {
   "cell_type": "code",
   "execution_count": 21,
   "metadata": {},
   "outputs": [],
   "source": [
    "xgb.set_hyperparameters(max_depth=5,\n",
    "                        eta=0.2,\n",
    "                        gamma=4,\n",
    "                        min_child_weight=6,\n",
    "                        subsample=0.8,\n",
    "                        objective='reg:linear',\n",
    "                        early_stopping_rounds=10,\n",
    "                        num_round=200)"
   ]
  },
  {
   "cell_type": "code",
   "execution_count": 22,
   "metadata": {},
   "outputs": [],
   "source": [
    "from sagemaker.tuner import IntegerParameter, ContinuousParameter, HyperparameterTuner\n",
    "\n",
    "xgb_hyperparameter_tuner = HyperparameterTuner(estimator = xgb,\n",
    "                                               objective_metric_name = 'validation:rmse',\n",
    "                                               objective_type = 'Minimize',\n",
    "                                               max_jobs = 20,\n",
    "                                               max_parallel_jobs = 3,\n",
    "                                               hyperparameter_ranges = {\n",
    "                                                    'max_depth': IntegerParameter(3, 12),\n",
    "                                                    'eta'      : ContinuousParameter(0.05, 0.5),\n",
    "                                                    'min_child_weight': IntegerParameter(2, 8),\n",
    "                                                    'subsample': ContinuousParameter(0.5, 0.9),\n",
    "                                                    'gamma': ContinuousParameter(0, 10),\n",
    "                                               })"
   ]
  },
  {
   "cell_type": "code",
   "execution_count": 23,
   "metadata": {
    "scrolled": true
   },
   "outputs": [],
   "source": [
    "s3_input_train = sagemaker.s3_input(s3_data=train_location, content_type='csv')\n",
    "s3_input_validation = sagemaker.s3_input(s3_data=val_location, content_type='csv')\n",
    "\n",
    "xgb_hyperparameter_tuner.fit({'train': s3_input_train, 'validation': s3_input_validation})"
   ]
  },
  {
   "cell_type": "code",
   "execution_count": null,
   "metadata": {},
   "outputs": [
    {
     "name": "stdout",
     "output_type": "stream",
     "text": [
      "...........................................................................................................................................................................................................................................................................................................................................................................................................................................................................................................................................................................................!\n"
     ]
    }
   ],
   "source": [
    "xgb_hyperparameter_tuner.wait()"
   ]
  },
  {
   "cell_type": "code",
   "execution_count": 29,
   "metadata": {},
   "outputs": [
    {
     "data": {
      "text/plain": [
       "'xgboost-200324-0910-020-642fc3ca'"
      ]
     },
     "execution_count": 29,
     "metadata": {},
     "output_type": "execute_result"
    }
   ],
   "source": [
    "xgb_hyperparameter_tuner.best_training_job()"
   ]
  },
  {
   "cell_type": "code",
   "execution_count": 30,
   "metadata": {
    "scrolled": true
   },
   "outputs": [
    {
     "name": "stdout",
     "output_type": "stream",
     "text": [
      "2020-03-24 10:07:24 Starting - Preparing the instances for training\n",
      "2020-03-24 10:07:24 Downloading - Downloading input data\n",
      "2020-03-24 10:07:24 Training - Training image download completed. Training in progress.\n",
      "2020-03-24 10:07:24 Uploading - Uploading generated training model\n",
      "2020-03-24 10:07:24 Completed - Training job completed\u001b[34mArguments: train\u001b[0m\n",
      "\u001b[34m[2020-03-24:10:01:13:INFO] Running standalone xgboost training.\u001b[0m\n",
      "\u001b[34m[2020-03-24:10:01:13:INFO] Setting up HPO optimized metric to be : rmse\u001b[0m\n",
      "\u001b[34m[2020-03-24:10:01:13:INFO] File size need to be processed in the node: 139.23mb. Available memory size in the node: 8515.55mb\u001b[0m\n",
      "\u001b[34m[2020-03-24:10:01:13:INFO] Determined delimiter of CSV input is ','\u001b[0m\n",
      "\u001b[34m[10:01:13] S3DistributionType set as FullyReplicated\u001b[0m\n",
      "\u001b[34m[10:01:14] 213944x293 matrix with 62685592 entries loaded from /opt/ml/input/data/train?format=csv&label_column=0&delimiter=,\u001b[0m\n",
      "\u001b[34m[2020-03-24:10:01:14:INFO] Determined delimiter of CSV input is ','\u001b[0m\n",
      "\u001b[34m[10:01:14] S3DistributionType set as FullyReplicated\u001b[0m\n",
      "\u001b[34m[10:01:14] 25918x293 matrix with 7593974 entries loaded from /opt/ml/input/data/validation?format=csv&label_column=0&delimiter=,\u001b[0m\n",
      "\u001b[34m[10:01:18] src/tree/updater_prune.cc:74: tree pruning end, 1 roots, 274 extra nodes, 0 pruned nodes, max_depth=12\u001b[0m\n",
      "\u001b[34m[0]#011train-rmse:21889.2#011validation-rmse:19140.1\u001b[0m\n",
      "\u001b[34mMultiple eval metrics have been passed: 'validation-rmse' will be used for early stopping.\n",
      "\u001b[0m\n",
      "\u001b[34mWill train until validation-rmse hasn't improved in 10 rounds.\u001b[0m\n",
      "\u001b[34m[10:01:21] src/tree/updater_prune.cc:74: tree pruning end, 1 roots, 350 extra nodes, 0 pruned nodes, max_depth=12\u001b[0m\n",
      "\u001b[34m[1]#011train-rmse:16574#011validation-rmse:14824.4\u001b[0m\n",
      "\u001b[34m[10:01:24] src/tree/updater_prune.cc:74: tree pruning end, 1 roots, 496 extra nodes, 0 pruned nodes, max_depth=12\u001b[0m\n",
      "\u001b[34m[2]#011train-rmse:12865.2#011validation-rmse:11889.6\u001b[0m\n",
      "\u001b[34m[10:01:26] src/tree/updater_prune.cc:74: tree pruning end, 1 roots, 466 extra nodes, 0 pruned nodes, max_depth=12\u001b[0m\n",
      "\u001b[34m[3]#011train-rmse:10365.1#011validation-rmse:9883.68\u001b[0m\n",
      "\u001b[34m[10:01:28] src/tree/updater_prune.cc:74: tree pruning end, 1 roots, 604 extra nodes, 0 pruned nodes, max_depth=12\u001b[0m\n",
      "\u001b[34m[4]#011train-rmse:8661.25#011validation-rmse:8784.12\u001b[0m\n",
      "\u001b[34m[10:01:31] src/tree/updater_prune.cc:74: tree pruning end, 1 roots, 658 extra nodes, 0 pruned nodes, max_depth=12\u001b[0m\n",
      "\u001b[34m[5]#011train-rmse:7474.03#011validation-rmse:7973.23\u001b[0m\n",
      "\u001b[34m[10:01:33] src/tree/updater_prune.cc:74: tree pruning end, 1 roots, 418 extra nodes, 0 pruned nodes, max_depth=12\u001b[0m\n",
      "\u001b[34m[6]#011train-rmse:6658.06#011validation-rmse:7614.57\u001b[0m\n",
      "\u001b[34m[10:01:36] src/tree/updater_prune.cc:74: tree pruning end, 1 roots, 238 extra nodes, 0 pruned nodes, max_depth=12\u001b[0m\n",
      "\u001b[34m[7]#011train-rmse:6191.53#011validation-rmse:7395.11\u001b[0m\n",
      "\u001b[34m[10:01:38] src/tree/updater_prune.cc:74: tree pruning end, 1 roots, 286 extra nodes, 0 pruned nodes, max_depth=12\u001b[0m\n",
      "\u001b[34m[8]#011train-rmse:5893.13#011validation-rmse:7209.84\u001b[0m\n",
      "\u001b[34m[10:01:40] src/tree/updater_prune.cc:74: tree pruning end, 1 roots, 416 extra nodes, 0 pruned nodes, max_depth=12\u001b[0m\n",
      "\u001b[34m[9]#011train-rmse:5595#011validation-rmse:7083.57\u001b[0m\n",
      "\u001b[34m[10:01:43] src/tree/updater_prune.cc:74: tree pruning end, 1 roots, 380 extra nodes, 0 pruned nodes, max_depth=12\u001b[0m\n",
      "\u001b[34m[10]#011train-rmse:5344.31#011validation-rmse:6874.84\u001b[0m\n",
      "\u001b[34m[10:01:45] src/tree/updater_prune.cc:74: tree pruning end, 1 roots, 272 extra nodes, 0 pruned nodes, max_depth=12\u001b[0m\n",
      "\u001b[34m[11]#011train-rmse:5213#011validation-rmse:6775.89\u001b[0m\n",
      "\u001b[34m[10:01:47] src/tree/updater_prune.cc:74: tree pruning end, 1 roots, 390 extra nodes, 0 pruned nodes, max_depth=12\u001b[0m\n",
      "\u001b[34m[12]#011train-rmse:5054.13#011validation-rmse:6715.71\u001b[0m\n",
      "\u001b[34m[10:01:50] src/tree/updater_prune.cc:74: tree pruning end, 1 roots, 328 extra nodes, 0 pruned nodes, max_depth=12\u001b[0m\n",
      "\u001b[34m[13]#011train-rmse:4939.08#011validation-rmse:6643.23\u001b[0m\n",
      "\u001b[34m[10:01:52] src/tree/updater_prune.cc:74: tree pruning end, 1 roots, 248 extra nodes, 0 pruned nodes, max_depth=12\u001b[0m\n",
      "\u001b[34m[14]#011train-rmse:4839.67#011validation-rmse:6593.54\u001b[0m\n",
      "\u001b[34m[10:01:54] src/tree/updater_prune.cc:74: tree pruning end, 1 roots, 272 extra nodes, 0 pruned nodes, max_depth=12\u001b[0m\n",
      "\u001b[34m[15]#011train-rmse:4764.71#011validation-rmse:6509.98\u001b[0m\n",
      "\u001b[34m[10:01:57] src/tree/updater_prune.cc:74: tree pruning end, 1 roots, 442 extra nodes, 0 pruned nodes, max_depth=12\u001b[0m\n",
      "\u001b[34m[16]#011train-rmse:4638.47#011validation-rmse:6451.78\u001b[0m\n",
      "\u001b[34m[10:01:59] src/tree/updater_prune.cc:74: tree pruning end, 1 roots, 220 extra nodes, 0 pruned nodes, max_depth=12\u001b[0m\n",
      "\u001b[34m[17]#011train-rmse:4570.56#011validation-rmse:6405.22\u001b[0m\n",
      "\u001b[34m[10:02:01] src/tree/updater_prune.cc:74: tree pruning end, 1 roots, 376 extra nodes, 0 pruned nodes, max_depth=12\u001b[0m\n",
      "\u001b[34m[18]#011train-rmse:4489.7#011validation-rmse:6348.06\u001b[0m\n",
      "\u001b[34m[10:02:04] src/tree/updater_prune.cc:74: tree pruning end, 1 roots, 518 extra nodes, 0 pruned nodes, max_depth=12\u001b[0m\n",
      "\u001b[34m[19]#011train-rmse:4396.38#011validation-rmse:6265.66\u001b[0m\n",
      "\u001b[34m[10:02:06] src/tree/updater_prune.cc:74: tree pruning end, 1 roots, 290 extra nodes, 0 pruned nodes, max_depth=12\u001b[0m\n",
      "\u001b[34m[20]#011train-rmse:4334.59#011validation-rmse:6205.02\u001b[0m\n",
      "\u001b[34m[10:02:08] src/tree/updater_prune.cc:74: tree pruning end, 1 roots, 456 extra nodes, 0 pruned nodes, max_depth=12\u001b[0m\n",
      "\u001b[34m[21]#011train-rmse:4258.59#011validation-rmse:6184.88\u001b[0m\n",
      "\u001b[34m[10:02:11] src/tree/updater_prune.cc:74: tree pruning end, 1 roots, 238 extra nodes, 0 pruned nodes, max_depth=12\u001b[0m\n",
      "\u001b[34m[22]#011train-rmse:4206.11#011validation-rmse:6129.47\u001b[0m\n",
      "\u001b[34m[10:02:13] src/tree/updater_prune.cc:74: tree pruning end, 1 roots, 300 extra nodes, 0 pruned nodes, max_depth=12\u001b[0m\n",
      "\u001b[34m[23]#011train-rmse:4147.97#011validation-rmse:6096.79\u001b[0m\n",
      "\u001b[34m[10:02:16] src/tree/updater_prune.cc:74: tree pruning end, 1 roots, 290 extra nodes, 0 pruned nodes, max_depth=12\u001b[0m\n",
      "\u001b[34m[24]#011train-rmse:4095.08#011validation-rmse:6055.27\u001b[0m\n",
      "\u001b[34m[10:02:18] src/tree/updater_prune.cc:74: tree pruning end, 1 roots, 334 extra nodes, 0 pruned nodes, max_depth=12\u001b[0m\n",
      "\u001b[34m[25]#011train-rmse:4047.07#011validation-rmse:5987.06\u001b[0m\n",
      "\u001b[34m[10:02:20] src/tree/updater_prune.cc:74: tree pruning end, 1 roots, 450 extra nodes, 0 pruned nodes, max_depth=12\u001b[0m\n",
      "\u001b[34m[26]#011train-rmse:3975.8#011validation-rmse:5945.6\u001b[0m\n",
      "\u001b[34m[10:02:23] src/tree/updater_prune.cc:74: tree pruning end, 1 roots, 270 extra nodes, 0 pruned nodes, max_depth=12\u001b[0m\n",
      "\u001b[34m[27]#011train-rmse:3921.73#011validation-rmse:5920.57\u001b[0m\n",
      "\u001b[34m[10:02:25] src/tree/updater_prune.cc:74: tree pruning end, 1 roots, 242 extra nodes, 0 pruned nodes, max_depth=12\u001b[0m\n",
      "\u001b[34m[28]#011train-rmse:3884.91#011validation-rmse:5901.51\u001b[0m\n",
      "\u001b[34m[10:02:27] src/tree/updater_prune.cc:74: tree pruning end, 1 roots, 322 extra nodes, 0 pruned nodes, max_depth=12\u001b[0m\n",
      "\u001b[34m[29]#011train-rmse:3822.3#011validation-rmse:5855.47\u001b[0m\n",
      "\u001b[34m[10:02:30] src/tree/updater_prune.cc:74: tree pruning end, 1 roots, 572 extra nodes, 0 pruned nodes, max_depth=12\u001b[0m\n",
      "\u001b[34m[30]#011train-rmse:3746.22#011validation-rmse:5793.36\u001b[0m\n",
      "\u001b[34m[10:02:32] src/tree/updater_prune.cc:74: tree pruning end, 1 roots, 292 extra nodes, 0 pruned nodes, max_depth=12\u001b[0m\n",
      "\u001b[34m[31]#011train-rmse:3705.6#011validation-rmse:5720.7\u001b[0m\n",
      "\u001b[34m[10:02:34] src/tree/updater_prune.cc:74: tree pruning end, 1 roots, 340 extra nodes, 0 pruned nodes, max_depth=12\u001b[0m\n",
      "\u001b[34m[32]#011train-rmse:3638.55#011validation-rmse:5702.38\u001b[0m\n",
      "\u001b[34m[10:02:37] src/tree/updater_prune.cc:74: tree pruning end, 1 roots, 448 extra nodes, 0 pruned nodes, max_depth=12\u001b[0m\n",
      "\u001b[34m[33]#011train-rmse:3595.04#011validation-rmse:5683.9\u001b[0m\n",
      "\u001b[34m[10:02:39] src/tree/updater_prune.cc:74: tree pruning end, 1 roots, 270 extra nodes, 0 pruned nodes, max_depth=12\u001b[0m\n",
      "\u001b[34m[34]#011train-rmse:3561.91#011validation-rmse:5646.44\u001b[0m\n",
      "\u001b[34m[10:02:41] src/tree/updater_prune.cc:74: tree pruning end, 1 roots, 244 extra nodes, 0 pruned nodes, max_depth=12\u001b[0m\n",
      "\u001b[34m[35]#011train-rmse:3526.53#011validation-rmse:5641.32\u001b[0m\n",
      "\u001b[34m[10:02:44] src/tree/updater_prune.cc:74: tree pruning end, 1 roots, 318 extra nodes, 0 pruned nodes, max_depth=12\u001b[0m\n",
      "\u001b[34m[36]#011train-rmse:3498.82#011validation-rmse:5607.34\u001b[0m\n",
      "\u001b[34m[10:02:46] src/tree/updater_prune.cc:74: tree pruning end, 1 roots, 370 extra nodes, 0 pruned nodes, max_depth=12\u001b[0m\n",
      "\u001b[34m[37]#011train-rmse:3456.8#011validation-rmse:5578.64\u001b[0m\n",
      "\u001b[34m[10:02:48] src/tree/updater_prune.cc:74: tree pruning end, 1 roots, 386 extra nodes, 0 pruned nodes, max_depth=12\u001b[0m\n",
      "\u001b[34m[38]#011train-rmse:3418.54#011validation-rmse:5551.79\u001b[0m\n",
      "\u001b[34m[10:02:51] src/tree/updater_prune.cc:74: tree pruning end, 1 roots, 438 extra nodes, 0 pruned nodes, max_depth=12\u001b[0m\n",
      "\u001b[34m[39]#011train-rmse:3365.16#011validation-rmse:5532.2\u001b[0m\n",
      "\u001b[34m[10:02:53] src/tree/updater_prune.cc:74: tree pruning end, 1 roots, 290 extra nodes, 0 pruned nodes, max_depth=12\u001b[0m\n",
      "\u001b[34m[40]#011train-rmse:3334.39#011validation-rmse:5524.93\u001b[0m\n",
      "\u001b[34m[10:02:55] src/tree/updater_prune.cc:74: tree pruning end, 1 roots, 564 extra nodes, 0 pruned nodes, max_depth=12\u001b[0m\n",
      "\u001b[34m[41]#011train-rmse:3282.68#011validation-rmse:5490.89\u001b[0m\n",
      "\u001b[34m[10:02:58] src/tree/updater_prune.cc:74: tree pruning end, 1 roots, 536 extra nodes, 0 pruned nodes, max_depth=12\u001b[0m\n",
      "\u001b[34m[42]#011train-rmse:3238.55#011validation-rmse:5477.59\u001b[0m\n",
      "\u001b[34m[10:03:00] src/tree/updater_prune.cc:74: tree pruning end, 1 roots, 386 extra nodes, 0 pruned nodes, max_depth=12\u001b[0m\n",
      "\u001b[34m[43]#011train-rmse:3212.13#011validation-rmse:5447.58\u001b[0m\n",
      "\u001b[34m[10:03:02] src/tree/updater_prune.cc:74: tree pruning end, 1 roots, 306 extra nodes, 0 pruned nodes, max_depth=12\u001b[0m\n",
      "\u001b[34m[44]#011train-rmse:3187.19#011validation-rmse:5425.49\u001b[0m\n",
      "\u001b[34m[10:03:05] src/tree/updater_prune.cc:74: tree pruning end, 1 roots, 262 extra nodes, 0 pruned nodes, max_depth=12\u001b[0m\n",
      "\u001b[34m[45]#011train-rmse:3160.7#011validation-rmse:5414.33\u001b[0m\n",
      "\u001b[34m[10:03:07] src/tree/updater_prune.cc:74: tree pruning end, 1 roots, 448 extra nodes, 0 pruned nodes, max_depth=12\u001b[0m\n",
      "\u001b[34m[46]#011train-rmse:3130.81#011validation-rmse:5403.97\u001b[0m\n",
      "\u001b[34m[10:03:09] src/tree/updater_prune.cc:74: tree pruning end, 1 roots, 412 extra nodes, 0 pruned nodes, max_depth=12\u001b[0m\n",
      "\u001b[34m[47]#011train-rmse:3109.4#011validation-rmse:5391.45\u001b[0m\n",
      "\u001b[34m[10:03:12] src/tree/updater_prune.cc:74: tree pruning end, 1 roots, 396 extra nodes, 0 pruned nodes, max_depth=12\u001b[0m\n",
      "\u001b[34m[48]#011train-rmse:3063.4#011validation-rmse:5380.69\u001b[0m\n",
      "\u001b[34m[10:03:14] src/tree/updater_prune.cc:74: tree pruning end, 1 roots, 322 extra nodes, 0 pruned nodes, max_depth=12\u001b[0m\n",
      "\u001b[34m[49]#011train-rmse:3039.02#011validation-rmse:5369.89\u001b[0m\n",
      "\u001b[34m[10:03:16] src/tree/updater_prune.cc:74: tree pruning end, 1 roots, 444 extra nodes, 0 pruned nodes, max_depth=12\u001b[0m\n",
      "\u001b[34m[50]#011train-rmse:3004.99#011validation-rmse:5358.39\u001b[0m\n",
      "\u001b[34m[10:03:19] src/tree/updater_prune.cc:74: tree pruning end, 1 roots, 442 extra nodes, 0 pruned nodes, max_depth=12\u001b[0m\n",
      "\u001b[34m[51]#011train-rmse:2953.13#011validation-rmse:5323.61\u001b[0m\n",
      "\u001b[34m[10:03:21] src/tree/updater_prune.cc:74: tree pruning end, 1 roots, 546 extra nodes, 0 pruned nodes, max_depth=12\u001b[0m\n",
      "\u001b[34m[52]#011train-rmse:2925.44#011validation-rmse:5318.22\u001b[0m\n",
      "\u001b[34m[10:03:23] src/tree/updater_prune.cc:74: tree pruning end, 1 roots, 434 extra nodes, 0 pruned nodes, max_depth=12\u001b[0m\n",
      "\u001b[34m[53]#011train-rmse:2897.19#011validation-rmse:5297.54\u001b[0m\n",
      "\u001b[34m[10:03:26] src/tree/updater_prune.cc:74: tree pruning end, 1 roots, 338 extra nodes, 0 pruned nodes, max_depth=12\u001b[0m\n",
      "\u001b[34m[54]#011train-rmse:2876.94#011validation-rmse:5277.49\u001b[0m\n",
      "\u001b[34m[10:03:28] src/tree/updater_prune.cc:74: tree pruning end, 1 roots, 366 extra nodes, 0 pruned nodes, max_depth=12\u001b[0m\n",
      "\u001b[34m[55]#011train-rmse:2849.12#011validation-rmse:5267.6\u001b[0m\n",
      "\u001b[34m[10:03:30] src/tree/updater_prune.cc:74: tree pruning end, 1 roots, 304 extra nodes, 0 pruned nodes, max_depth=12\u001b[0m\n",
      "\u001b[34m[56]#011train-rmse:2830.73#011validation-rmse:5257.54\u001b[0m\n",
      "\u001b[34m[10:03:33] src/tree/updater_prune.cc:74: tree pruning end, 1 roots, 340 extra nodes, 0 pruned nodes, max_depth=12\u001b[0m\n",
      "\u001b[34m[57]#011train-rmse:2791.92#011validation-rmse:5252.8\u001b[0m\n",
      "\u001b[34m[10:03:35] src/tree/updater_prune.cc:74: tree pruning end, 1 roots, 420 extra nodes, 0 pruned nodes, max_depth=12\u001b[0m\n",
      "\u001b[34m[58]#011train-rmse:2758.26#011validation-rmse:5240.14\u001b[0m\n",
      "\u001b[34m[10:03:37] src/tree/updater_prune.cc:74: tree pruning end, 1 roots, 506 extra nodes, 0 pruned nodes, max_depth=12\u001b[0m\n",
      "\u001b[34m[59]#011train-rmse:2740.92#011validation-rmse:5230.15\u001b[0m\n",
      "\u001b[34m[10:03:40] src/tree/updater_prune.cc:74: tree pruning end, 1 roots, 312 extra nodes, 0 pruned nodes, max_depth=12\u001b[0m\n",
      "\u001b[34m[60]#011train-rmse:2720.75#011validation-rmse:5226.98\u001b[0m\n",
      "\u001b[34m[10:03:42] src/tree/updater_prune.cc:74: tree pruning end, 1 roots, 542 extra nodes, 0 pruned nodes, max_depth=12\u001b[0m\n",
      "\u001b[34m[61]#011train-rmse:2685.03#011validation-rmse:5208.99\u001b[0m\n",
      "\u001b[34m[10:03:45] src/tree/updater_prune.cc:74: tree pruning end, 1 roots, 334 extra nodes, 0 pruned nodes, max_depth=12\u001b[0m\n",
      "\u001b[34m[62]#011train-rmse:2668.49#011validation-rmse:5208.23\u001b[0m\n",
      "\u001b[34m[10:03:47] src/tree/updater_prune.cc:74: tree pruning end, 1 roots, 482 extra nodes, 0 pruned nodes, max_depth=12\u001b[0m\n",
      "\u001b[34m[63]#011train-rmse:2646.98#011validation-rmse:5193.9\u001b[0m\n",
      "\u001b[34m[10:03:49] src/tree/updater_prune.cc:74: tree pruning end, 1 roots, 426 extra nodes, 0 pruned nodes, max_depth=12\u001b[0m\n",
      "\u001b[34m[64]#011train-rmse:2622.4#011validation-rmse:5189.82\u001b[0m\n",
      "\u001b[34m[10:03:52] src/tree/updater_prune.cc:74: tree pruning end, 1 roots, 396 extra nodes, 0 pruned nodes, max_depth=12\u001b[0m\n",
      "\u001b[34m[65]#011train-rmse:2608.27#011validation-rmse:5186.17\u001b[0m\n",
      "\u001b[34m[10:03:54] src/tree/updater_prune.cc:74: tree pruning end, 1 roots, 484 extra nodes, 0 pruned nodes, max_depth=12\u001b[0m\n",
      "\u001b[34m[66]#011train-rmse:2579.19#011validation-rmse:5181.07\u001b[0m\n",
      "\u001b[34m[10:03:56] src/tree/updater_prune.cc:74: tree pruning end, 1 roots, 300 extra nodes, 0 pruned nodes, max_depth=12\u001b[0m\n",
      "\u001b[34m[67]#011train-rmse:2562.47#011validation-rmse:5175.62\u001b[0m\n",
      "\u001b[34m[10:03:59] src/tree/updater_prune.cc:74: tree pruning end, 1 roots, 450 extra nodes, 0 pruned nodes, max_depth=12\u001b[0m\n",
      "\u001b[34m[68]#011train-rmse:2545.14#011validation-rmse:5168.38\u001b[0m\n",
      "\u001b[34m[10:04:01] src/tree/updater_prune.cc:74: tree pruning end, 1 roots, 438 extra nodes, 0 pruned nodes, max_depth=12\u001b[0m\n",
      "\u001b[34m[69]#011train-rmse:2519.02#011validation-rmse:5159.59\u001b[0m\n",
      "\u001b[34m[10:04:03] src/tree/updater_prune.cc:74: tree pruning end, 1 roots, 396 extra nodes, 0 pruned nodes, max_depth=12\u001b[0m\n",
      "\u001b[34m[70]#011train-rmse:2500.73#011validation-rmse:5152.13\u001b[0m\n",
      "\u001b[34m[10:04:06] src/tree/updater_prune.cc:74: tree pruning end, 1 roots, 508 extra nodes, 0 pruned nodes, max_depth=12\u001b[0m\n",
      "\u001b[34m[71]#011train-rmse:2487.51#011validation-rmse:5144.97\u001b[0m\n",
      "\u001b[34m[10:04:08] src/tree/updater_prune.cc:74: tree pruning end, 1 roots, 426 extra nodes, 0 pruned nodes, max_depth=12\u001b[0m\n",
      "\u001b[34m[72]#011train-rmse:2468.65#011validation-rmse:5142.12\u001b[0m\n",
      "\u001b[34m[10:04:10] src/tree/updater_prune.cc:74: tree pruning end, 1 roots, 342 extra nodes, 0 pruned nodes, max_depth=12\u001b[0m\n",
      "\u001b[34m[73]#011train-rmse:2458.44#011validation-rmse:5137.21\u001b[0m\n",
      "\u001b[34m[10:04:13] src/tree/updater_prune.cc:74: tree pruning end, 1 roots, 506 extra nodes, 0 pruned nodes, max_depth=12\u001b[0m\n",
      "\u001b[34m[74]#011train-rmse:2380.08#011validation-rmse:5137.43\u001b[0m\n",
      "\u001b[34m[10:04:15] src/tree/updater_prune.cc:74: tree pruning end, 1 roots, 388 extra nodes, 0 pruned nodes, max_depth=12\u001b[0m\n",
      "\u001b[34m[75]#011train-rmse:2357.08#011validation-rmse:5132.82\u001b[0m\n",
      "\u001b[34m[10:04:17] src/tree/updater_prune.cc:74: tree pruning end, 1 roots, 532 extra nodes, 0 pruned nodes, max_depth=12\u001b[0m\n",
      "\u001b[34m[76]#011train-rmse:2330.57#011validation-rmse:5129.22\u001b[0m\n",
      "\u001b[34m[10:04:20] src/tree/updater_prune.cc:74: tree pruning end, 1 roots, 474 extra nodes, 0 pruned nodes, max_depth=12\u001b[0m\n",
      "\u001b[34m[77]#011train-rmse:2318.38#011validation-rmse:5121.77\u001b[0m\n",
      "\u001b[34m[10:04:22] src/tree/updater_prune.cc:74: tree pruning end, 1 roots, 456 extra nodes, 0 pruned nodes, max_depth=12\u001b[0m\n",
      "\u001b[34m[78]#011train-rmse:2288.85#011validation-rmse:5117.78\u001b[0m\n",
      "\u001b[34m[10:04:25] src/tree/updater_prune.cc:74: tree pruning end, 1 roots, 398 extra nodes, 0 pruned nodes, max_depth=12\u001b[0m\n",
      "\u001b[34m[79]#011train-rmse:2274.5#011validation-rmse:5115.16\u001b[0m\n",
      "\u001b[34m[10:04:27] src/tree/updater_prune.cc:74: tree pruning end, 1 roots, 362 extra nodes, 0 pruned nodes, max_depth=12\u001b[0m\n",
      "\u001b[34m[80]#011train-rmse:2264.72#011validation-rmse:5109.25\u001b[0m\n",
      "\u001b[34m[10:04:29] src/tree/updater_prune.cc:74: tree pruning end, 1 roots, 472 extra nodes, 0 pruned nodes, max_depth=12\u001b[0m\n",
      "\u001b[34m[81]#011train-rmse:2246.49#011validation-rmse:5104.2\u001b[0m\n",
      "\u001b[34m[10:04:32] src/tree/updater_prune.cc:74: tree pruning end, 1 roots, 342 extra nodes, 0 pruned nodes, max_depth=12\u001b[0m\n",
      "\u001b[34m[82]#011train-rmse:2217.74#011validation-rmse:5100.99\u001b[0m\n",
      "\u001b[34m[10:04:34] src/tree/updater_prune.cc:74: tree pruning end, 1 roots, 640 extra nodes, 0 pruned nodes, max_depth=12\u001b[0m\n",
      "\u001b[34m[83]#011train-rmse:2198.32#011validation-rmse:5097.21\u001b[0m\n",
      "\u001b[34m[10:04:36] src/tree/updater_prune.cc:74: tree pruning end, 1 roots, 454 extra nodes, 0 pruned nodes, max_depth=12\u001b[0m\n",
      "\u001b[34m[84]#011train-rmse:2184.42#011validation-rmse:5095\u001b[0m\n",
      "\u001b[34m[10:04:39] src/tree/updater_prune.cc:74: tree pruning end, 1 roots, 384 extra nodes, 0 pruned nodes, max_depth=12\u001b[0m\n",
      "\u001b[34m[85]#011train-rmse:2168.28#011validation-rmse:5095.35\u001b[0m\n",
      "\u001b[34m[10:04:41] src/tree/updater_prune.cc:74: tree pruning end, 1 roots, 374 extra nodes, 0 pruned nodes, max_depth=12\u001b[0m\n",
      "\u001b[34m[86]#011train-rmse:2155.46#011validation-rmse:5094.06\u001b[0m\n",
      "\u001b[34m[10:04:43] src/tree/updater_prune.cc:74: tree pruning end, 1 roots, 304 extra nodes, 0 pruned nodes, max_depth=12\u001b[0m\n",
      "\u001b[34m[87]#011train-rmse:2142.14#011validation-rmse:5091.74\u001b[0m\n",
      "\u001b[34m[10:04:46] src/tree/updater_prune.cc:74: tree pruning end, 1 roots, 456 extra nodes, 0 pruned nodes, max_depth=12\u001b[0m\n",
      "\u001b[34m[88]#011train-rmse:2131.88#011validation-rmse:5090.31\u001b[0m\n",
      "\u001b[34m[10:04:48] src/tree/updater_prune.cc:74: tree pruning end, 1 roots, 482 extra nodes, 0 pruned nodes, max_depth=12\u001b[0m\n",
      "\u001b[34m[89]#011train-rmse:2114.18#011validation-rmse:5086.8\u001b[0m\n",
      "\u001b[34m[10:04:50] src/tree/updater_prune.cc:74: tree pruning end, 1 roots, 396 extra nodes, 0 pruned nodes, max_depth=12\u001b[0m\n",
      "\u001b[34m[90]#011train-rmse:2085.33#011validation-rmse:5082.38\u001b[0m\n",
      "\u001b[34m[10:04:53] src/tree/updater_prune.cc:74: tree pruning end, 1 roots, 358 extra nodes, 0 pruned nodes, max_depth=12\u001b[0m\n",
      "\u001b[34m[91]#011train-rmse:2079.31#011validation-rmse:5080.61\u001b[0m\n",
      "\u001b[34m[10:04:55] src/tree/updater_prune.cc:74: tree pruning end, 1 roots, 378 extra nodes, 0 pruned nodes, max_depth=12\u001b[0m\n",
      "\u001b[34m[92]#011train-rmse:2063.9#011validation-rmse:5078.89\u001b[0m\n",
      "\u001b[34m[10:04:57] src/tree/updater_prune.cc:74: tree pruning end, 1 roots, 460 extra nodes, 0 pruned nodes, max_depth=12\u001b[0m\n",
      "\u001b[34m[93]#011train-rmse:2052.2#011validation-rmse:5081.44\u001b[0m\n",
      "\u001b[34m[10:05:00] src/tree/updater_prune.cc:74: tree pruning end, 1 roots, 624 extra nodes, 0 pruned nodes, max_depth=12\u001b[0m\n",
      "\u001b[34m[94]#011train-rmse:2034.07#011validation-rmse:5067.87\u001b[0m\n",
      "\u001b[34m[10:05:02] src/tree/updater_prune.cc:74: tree pruning end, 1 roots, 530 extra nodes, 0 pruned nodes, max_depth=12\u001b[0m\n",
      "\u001b[34m[95]#011train-rmse:2025.64#011validation-rmse:5064.61\u001b[0m\n",
      "\u001b[34m[10:05:04] src/tree/updater_prune.cc:74: tree pruning end, 1 roots, 406 extra nodes, 0 pruned nodes, max_depth=12\u001b[0m\n",
      "\u001b[34m[96]#011train-rmse:2016.55#011validation-rmse:5062.91\u001b[0m\n",
      "\u001b[34m[10:05:07] src/tree/updater_prune.cc:74: tree pruning end, 1 roots, 432 extra nodes, 0 pruned nodes, max_depth=12\u001b[0m\n",
      "\u001b[34m[97]#011train-rmse:1975.35#011validation-rmse:5058.11\u001b[0m\n",
      "\u001b[34m[10:05:09] src/tree/updater_prune.cc:74: tree pruning end, 1 roots, 446 extra nodes, 0 pruned nodes, max_depth=12\u001b[0m\n",
      "\u001b[34m[98]#011train-rmse:1961.74#011validation-rmse:5058.89\u001b[0m\n",
      "\u001b[34m[10:05:11] src/tree/updater_prune.cc:74: tree pruning end, 1 roots, 404 extra nodes, 0 pruned nodes, max_depth=12\u001b[0m\n",
      "\u001b[34m[99]#011train-rmse:1944.32#011validation-rmse:5057.22\u001b[0m\n",
      "\u001b[34m[10:05:14] src/tree/updater_prune.cc:74: tree pruning end, 1 roots, 522 extra nodes, 0 pruned nodes, max_depth=12\u001b[0m\n",
      "\u001b[34m[100]#011train-rmse:1937.24#011validation-rmse:5056.55\u001b[0m\n",
      "\u001b[34m[10:05:16] src/tree/updater_prune.cc:74: tree pruning end, 1 roots, 452 extra nodes, 0 pruned nodes, max_depth=12\u001b[0m\n",
      "\u001b[34m[101]#011train-rmse:1917.92#011validation-rmse:5055.74\u001b[0m\n",
      "\u001b[34m[10:05:18] src/tree/updater_prune.cc:74: tree pruning end, 1 roots, 460 extra nodes, 0 pruned nodes, max_depth=12\u001b[0m\n",
      "\u001b[34m[102]#011train-rmse:1909.08#011validation-rmse:5054.65\u001b[0m\n",
      "\u001b[34m[10:05:21] src/tree/updater_prune.cc:74: tree pruning end, 1 roots, 604 extra nodes, 0 pruned nodes, max_depth=12\u001b[0m\n",
      "\u001b[34m[103]#011train-rmse:1885.63#011validation-rmse:5055.36\u001b[0m\n",
      "\u001b[34m[10:05:23] src/tree/updater_prune.cc:74: tree pruning end, 1 roots, 398 extra nodes, 0 pruned nodes, max_depth=12\u001b[0m\n",
      "\u001b[34m[104]#011train-rmse:1875.27#011validation-rmse:5053.14\u001b[0m\n",
      "\u001b[34m[10:05:25] src/tree/updater_prune.cc:74: tree pruning end, 1 roots, 558 extra nodes, 0 pruned nodes, max_depth=12\u001b[0m\n",
      "\u001b[34m[105]#011train-rmse:1866.68#011validation-rmse:5054.61\u001b[0m\n",
      "\u001b[34m[10:05:28] src/tree/updater_prune.cc:74: tree pruning end, 1 roots, 522 extra nodes, 0 pruned nodes, max_depth=12\u001b[0m\n",
      "\u001b[34m[106]#011train-rmse:1849.9#011validation-rmse:5049.45\u001b[0m\n",
      "\u001b[34m[10:05:30] src/tree/updater_prune.cc:74: tree pruning end, 1 roots, 396 extra nodes, 0 pruned nodes, max_depth=12\u001b[0m\n",
      "\u001b[34m[107]#011train-rmse:1842.3#011validation-rmse:5048.54\u001b[0m\n",
      "\u001b[34m[10:05:32] src/tree/updater_prune.cc:74: tree pruning end, 1 roots, 366 extra nodes, 0 pruned nodes, max_depth=12\u001b[0m\n",
      "\u001b[34m[108]#011train-rmse:1829.44#011validation-rmse:5023.37\u001b[0m\n",
      "\u001b[34m[10:05:35] src/tree/updater_prune.cc:74: tree pruning end, 1 roots, 400 extra nodes, 0 pruned nodes, max_depth=12\u001b[0m\n",
      "\u001b[34m[109]#011train-rmse:1812.35#011validation-rmse:5022.94\u001b[0m\n",
      "\u001b[34m[10:05:37] src/tree/updater_prune.cc:74: tree pruning end, 1 roots, 380 extra nodes, 0 pruned nodes, max_depth=12\u001b[0m\n",
      "\u001b[34m[110]#011train-rmse:1804.78#011validation-rmse:5022.52\u001b[0m\n",
      "\u001b[34m[10:05:39] src/tree/updater_prune.cc:74: tree pruning end, 1 roots, 384 extra nodes, 0 pruned nodes, max_depth=12\u001b[0m\n",
      "\u001b[34m[111]#011train-rmse:1781.12#011validation-rmse:5019.89\u001b[0m\n",
      "\u001b[34m[10:05:42] src/tree/updater_prune.cc:74: tree pruning end, 1 roots, 610 extra nodes, 0 pruned nodes, max_depth=12\u001b[0m\n",
      "\u001b[34m[112]#011train-rmse:1755.6#011validation-rmse:5019.61\u001b[0m\n",
      "\u001b[34m[10:05:44] src/tree/updater_prune.cc:74: tree pruning end, 1 roots, 456 extra nodes, 0 pruned nodes, max_depth=12\u001b[0m\n",
      "\u001b[34m[113]#011train-rmse:1748.3#011validation-rmse:5019.35\u001b[0m\n",
      "\u001b[34m[10:05:46] src/tree/updater_prune.cc:74: tree pruning end, 1 roots, 544 extra nodes, 0 pruned nodes, max_depth=12\u001b[0m\n",
      "\u001b[34m[114]#011train-rmse:1706.74#011validation-rmse:5017.8\u001b[0m\n",
      "\u001b[34m[10:05:49] src/tree/updater_prune.cc:74: tree pruning end, 1 roots, 466 extra nodes, 0 pruned nodes, max_depth=12\u001b[0m\n",
      "\u001b[34m[115]#011train-rmse:1700.77#011validation-rmse:5017.3\u001b[0m\n",
      "\u001b[34m[10:05:51] src/tree/updater_prune.cc:74: tree pruning end, 1 roots, 386 extra nodes, 0 pruned nodes, max_depth=12\u001b[0m\n",
      "\u001b[34m[116]#011train-rmse:1693.63#011validation-rmse:5017.91\u001b[0m\n",
      "\u001b[34m[10:05:53] src/tree/updater_prune.cc:74: tree pruning end, 1 roots, 370 extra nodes, 0 pruned nodes, max_depth=12\u001b[0m\n",
      "\u001b[34m[117]#011train-rmse:1663.47#011validation-rmse:5010.21\u001b[0m\n",
      "\u001b[34m[10:05:56] src/tree/updater_prune.cc:74: tree pruning end, 1 roots, 468 extra nodes, 0 pruned nodes, max_depth=12\u001b[0m\n",
      "\u001b[34m[118]#011train-rmse:1644.99#011validation-rmse:5007.74\u001b[0m\n",
      "\u001b[34m[10:05:58] src/tree/updater_prune.cc:74: tree pruning end, 1 roots, 598 extra nodes, 0 pruned nodes, max_depth=12\u001b[0m\n",
      "\u001b[34m[119]#011train-rmse:1635.13#011validation-rmse:5007.58\u001b[0m\n",
      "\u001b[34m[10:06:00] src/tree/updater_prune.cc:74: tree pruning end, 1 roots, 458 extra nodes, 0 pruned nodes, max_depth=12\u001b[0m\n",
      "\u001b[34m[120]#011train-rmse:1626.99#011validation-rmse:5007.27\u001b[0m\n",
      "\u001b[34m[10:06:02] src/tree/updater_prune.cc:74: tree pruning end, 1 roots, 376 extra nodes, 0 pruned nodes, max_depth=12\u001b[0m\n",
      "\u001b[34m[121]#011train-rmse:1620.22#011validation-rmse:5008.22\u001b[0m\n",
      "\u001b[34m[10:06:05] src/tree/updater_prune.cc:74: tree pruning end, 1 roots, 426 extra nodes, 0 pruned nodes, max_depth=12\u001b[0m\n",
      "\u001b[34m[122]#011train-rmse:1611.34#011validation-rmse:5010.25\u001b[0m\n",
      "\u001b[34m[10:06:07] src/tree/updater_prune.cc:74: tree pruning end, 1 roots, 512 extra nodes, 0 pruned nodes, max_depth=12\u001b[0m\n",
      "\u001b[34m[123]#011train-rmse:1603.36#011validation-rmse:5010.36\u001b[0m\n",
      "\u001b[34m[10:06:10] src/tree/updater_prune.cc:74: tree pruning end, 1 roots, 654 extra nodes, 0 pruned nodes, max_depth=12\u001b[0m\n",
      "\u001b[34m[124]#011train-rmse:1593.3#011validation-rmse:5008.13\u001b[0m\n",
      "\u001b[34m[10:06:12] src/tree/updater_prune.cc:74: tree pruning end, 1 roots, 406 extra nodes, 0 pruned nodes, max_depth=12\u001b[0m\n",
      "\u001b[34m[125]#011train-rmse:1589.19#011validation-rmse:5007.85\u001b[0m\n",
      "\u001b[34m[10:06:14] src/tree/updater_prune.cc:74: tree pruning end, 1 roots, 430 extra nodes, 0 pruned nodes, max_depth=12\u001b[0m\n",
      "\u001b[34m[126]#011train-rmse:1577.81#011validation-rmse:5007.87\u001b[0m\n",
      "\u001b[34m[10:06:17] src/tree/updater_prune.cc:74: tree pruning end, 1 roots, 428 extra nodes, 0 pruned nodes, max_depth=12\u001b[0m\n",
      "\u001b[34m[127]#011train-rmse:1573.34#011validation-rmse:5008.05\u001b[0m\n",
      "\u001b[34m[10:06:19] src/tree/updater_prune.cc:74: tree pruning end, 1 roots, 422 extra nodes, 0 pruned nodes, max_depth=12\u001b[0m\n",
      "\u001b[34m[128]#011train-rmse:1570.06#011validation-rmse:5007.12\u001b[0m\n",
      "\u001b[34m[10:06:21] src/tree/updater_prune.cc:74: tree pruning end, 1 roots, 568 extra nodes, 0 pruned nodes, max_depth=12\u001b[0m\n",
      "\u001b[34m[129]#011train-rmse:1556#011validation-rmse:5005.87\u001b[0m\n",
      "\u001b[34m[10:06:24] src/tree/updater_prune.cc:74: tree pruning end, 1 roots, 512 extra nodes, 0 pruned nodes, max_depth=12\u001b[0m\n",
      "\u001b[34m[130]#011train-rmse:1549.84#011validation-rmse:5009.32\u001b[0m\n",
      "\u001b[34m[10:06:26] src/tree/updater_prune.cc:74: tree pruning end, 1 roots, 418 extra nodes, 0 pruned nodes, max_depth=12\u001b[0m\n",
      "\u001b[34m[131]#011train-rmse:1545.32#011validation-rmse:5008.95\u001b[0m\n",
      "\u001b[34m[10:06:28] src/tree/updater_prune.cc:74: tree pruning end, 1 roots, 442 extra nodes, 0 pruned nodes, max_depth=12\u001b[0m\n",
      "\u001b[34m[132]#011train-rmse:1532.98#011validation-rmse:5007.68\u001b[0m\n",
      "\u001b[34m[10:06:31] src/tree/updater_prune.cc:74: tree pruning end, 1 roots, 468 extra nodes, 0 pruned nodes, max_depth=12\u001b[0m\n",
      "\u001b[34m[133]#011train-rmse:1513.64#011validation-rmse:5010.71\u001b[0m\n",
      "\u001b[34m[10:06:33] src/tree/updater_prune.cc:74: tree pruning end, 1 roots, 450 extra nodes, 0 pruned nodes, max_depth=12\u001b[0m\n",
      "\u001b[34m[134]#011train-rmse:1509.17#011validation-rmse:5010.67\u001b[0m\n",
      "\u001b[34m[10:06:35] src/tree/updater_prune.cc:74: tree pruning end, 1 roots, 518 extra nodes, 0 pruned nodes, max_depth=12\u001b[0m\n",
      "\u001b[34m[135]#011train-rmse:1499.52#011validation-rmse:5009.88\u001b[0m\n",
      "\u001b[34m[10:06:38] src/tree/updater_prune.cc:74: tree pruning end, 1 roots, 486 extra nodes, 0 pruned nodes, max_depth=12\u001b[0m\n",
      "\u001b[34m[136]#011train-rmse:1495.46#011validation-rmse:5009.36\u001b[0m\n",
      "\u001b[34m[10:06:40] src/tree/updater_prune.cc:74: tree pruning end, 1 roots, 478 extra nodes, 0 pruned nodes, max_depth=12\u001b[0m\n",
      "\u001b[34m[137]#011train-rmse:1490.08#011validation-rmse:5010.32\u001b[0m\n",
      "\u001b[34m[10:06:42] src/tree/updater_prune.cc:74: tree pruning end, 1 roots, 422 extra nodes, 0 pruned nodes, max_depth=12\u001b[0m\n",
      "\u001b[34m[138]#011train-rmse:1477.69#011validation-rmse:5010.8\u001b[0m\n",
      "\u001b[34m[10:06:45] src/tree/updater_prune.cc:74: tree pruning end, 1 roots, 440 extra nodes, 0 pruned nodes, max_depth=12\u001b[0m\n",
      "\u001b[34m[139]#011train-rmse:1453.73#011validation-rmse:4997.65\u001b[0m\n",
      "\u001b[34m[10:06:47] src/tree/updater_prune.cc:74: tree pruning end, 1 roots, 414 extra nodes, 0 pruned nodes, max_depth=12\u001b[0m\n",
      "\u001b[34m[140]#011train-rmse:1444.63#011validation-rmse:4996.28\u001b[0m\n",
      "\u001b[34m[10:06:50] src/tree/updater_prune.cc:74: tree pruning end, 1 roots, 522 extra nodes, 0 pruned nodes, max_depth=12\u001b[0m\n",
      "\u001b[34m[141]#011train-rmse:1425.43#011validation-rmse:4990.01\u001b[0m\n",
      "\u001b[34m[10:06:52] src/tree/updater_prune.cc:74: tree pruning end, 1 roots, 558 extra nodes, 0 pruned nodes, max_depth=12\u001b[0m\n",
      "\u001b[34m[142]#011train-rmse:1417.06#011validation-rmse:4988.79\u001b[0m\n",
      "\u001b[34m[10:06:54] src/tree/updater_prune.cc:74: tree pruning end, 1 roots, 604 extra nodes, 0 pruned nodes, max_depth=12\u001b[0m\n",
      "\u001b[34m[143]#011train-rmse:1404.37#011validation-rmse:4990.88\u001b[0m\n",
      "\u001b[34m[10:06:57] src/tree/updater_prune.cc:74: tree pruning end, 1 roots, 480 extra nodes, 0 pruned nodes, max_depth=12\u001b[0m\n",
      "\u001b[34m[144]#011train-rmse:1387.84#011validation-rmse:4990.18\u001b[0m\n",
      "\u001b[34m[10:06:59] src/tree/updater_prune.cc:74: tree pruning end, 1 roots, 618 extra nodes, 0 pruned nodes, max_depth=12\u001b[0m\n",
      "\u001b[34m[145]#011train-rmse:1382.03#011validation-rmse:4991.6\u001b[0m\n",
      "\u001b[34m[10:07:01] src/tree/updater_prune.cc:74: tree pruning end, 1 roots, 670 extra nodes, 0 pruned nodes, max_depth=12\u001b[0m\n",
      "\u001b[34m[146]#011train-rmse:1375.63#011validation-rmse:4995.04\u001b[0m\n",
      "\u001b[34m[10:07:04] src/tree/updater_prune.cc:74: tree pruning end, 1 roots, 366 extra nodes, 0 pruned nodes, max_depth=12\u001b[0m\n",
      "\u001b[34m[147]#011train-rmse:1369.42#011validation-rmse:4995.25\u001b[0m\n",
      "\u001b[34m[10:07:06] src/tree/updater_prune.cc:74: tree pruning end, 1 roots, 420 extra nodes, 0 pruned nodes, max_depth=12\u001b[0m\n",
      "\u001b[34m[148]#011train-rmse:1363.9#011validation-rmse:4996.17\u001b[0m\n",
      "\u001b[34m[10:07:08] src/tree/updater_prune.cc:74: tree pruning end, 1 roots, 436 extra nodes, 0 pruned nodes, max_depth=12\u001b[0m\n",
      "\u001b[34m[149]#011train-rmse:1359.22#011validation-rmse:4997.78\u001b[0m\n",
      "\u001b[34m[10:07:11] src/tree/updater_prune.cc:74: tree pruning end, 1 roots, 446 extra nodes, 0 pruned nodes, max_depth=12\u001b[0m\n",
      "\u001b[34m[150]#011train-rmse:1354.54#011validation-rmse:4998.16\u001b[0m\n",
      "\u001b[34m[10:07:13] src/tree/updater_prune.cc:74: tree pruning end, 1 roots, 634 extra nodes, 0 pruned nodes, max_depth=12\u001b[0m\n",
      "\u001b[34m[151]#011train-rmse:1336.86#011validation-rmse:5003.4\u001b[0m\n",
      "\u001b[34m[10:07:15] src/tree/updater_prune.cc:74: tree pruning end, 1 roots, 502 extra nodes, 0 pruned nodes, max_depth=12\u001b[0m\n",
      "\u001b[34m[152]#011train-rmse:1333.46#011validation-rmse:5003.98\u001b[0m\n",
      "\u001b[34mStopping. Best iteration:\u001b[0m\n",
      "\u001b[34m[142]#011train-rmse:1417.06#011validation-rmse:4988.79\n",
      "\u001b[0m\n",
      "Training seconds: 407\n",
      "Billable seconds: 407\n"
     ]
    }
   ],
   "source": [
    "xgb_attached = sagemaker.estimator.Estimator.attach(xgb_hyperparameter_tuner.best_training_job())"
   ]
  },
  {
   "cell_type": "code",
   "execution_count": 31,
   "metadata": {},
   "outputs": [
    {
     "name": "stderr",
     "output_type": "stream",
     "text": [
      "WARNING:sagemaker:Using already existing model: xgboost-200324-0910-020-642fc3ca\n"
     ]
    }
   ],
   "source": [
    "xgb_transformer = xgb_attached.transformer(instance_count = 1, instance_type = 'ml.m4.xlarge')"
   ]
  },
  {
   "cell_type": "code",
   "execution_count": 32,
   "metadata": {},
   "outputs": [
    {
     "name": "stdout",
     "output_type": "stream",
     "text": [
      "....................\u001b[34mArguments: serve\u001b[0m\n",
      "\u001b[34m[2020-03-24 10:14:59 +0000] [1] [INFO] Starting gunicorn 19.7.1\u001b[0m\n",
      "\u001b[34m[2020-03-24 10:14:59 +0000] [1] [INFO] Listening at: http://0.0.0.0:8080 (1)\u001b[0m\n",
      "\u001b[34m[2020-03-24 10:14:59 +0000] [1] [INFO] Using worker: gevent\u001b[0m\n",
      "\u001b[34m[2020-03-24 10:14:59 +0000] [37] [INFO] Booting worker with pid: 37\u001b[0m\n",
      "\u001b[34m[2020-03-24 10:14:59 +0000] [38] [INFO] Booting worker with pid: 38\u001b[0m\n",
      "\u001b[34m[2020-03-24 10:14:59 +0000] [39] [INFO] Booting worker with pid: 39\u001b[0m\n",
      "\u001b[34m[2020-03-24:10:14:59:INFO] Model loaded successfully for worker : 37\u001b[0m\n",
      "\u001b[34m[2020-03-24:10:14:59:INFO] Model loaded successfully for worker : 38\u001b[0m\n",
      "\u001b[34m[2020-03-24 10:14:59 +0000] [40] [INFO] Booting worker with pid: 40\u001b[0m\n",
      "\u001b[34m[2020-03-24:10:14:59:INFO] Model loaded successfully for worker : 39\u001b[0m\n",
      "\u001b[34m[2020-03-24:10:14:59:INFO] Model loaded successfully for worker : 40\u001b[0m\n",
      "\n",
      "\u001b[34m[2020-03-24:10:15:19:INFO] Sniff delimiter as ','\u001b[0m\n",
      "\u001b[34m[2020-03-24:10:15:19:INFO] Determined delimiter of CSV input is ','\u001b[0m\n",
      "\u001b[34m[2020-03-24:10:15:19:INFO] Sniff delimiter as ','\u001b[0m\n",
      "\u001b[34m[2020-03-24:10:15:19:INFO] Determined delimiter of CSV input is ','\u001b[0m\n",
      "\u001b[34m[2020-03-24:10:15:19:INFO] Sniff delimiter as ','\u001b[0m\n",
      "\u001b[34m[2020-03-24:10:15:19:INFO] Determined delimiter of CSV input is ','\u001b[0m\n",
      "\u001b[35m[2020-03-24:10:15:19:INFO] Sniff delimiter as ','\u001b[0m\n",
      "\u001b[35m[2020-03-24:10:15:19:INFO] Determined delimiter of CSV input is ','\u001b[0m\n",
      "\u001b[35m[2020-03-24:10:15:19:INFO] Sniff delimiter as ','\u001b[0m\n",
      "\u001b[35m[2020-03-24:10:15:19:INFO] Determined delimiter of CSV input is ','\u001b[0m\n",
      "\u001b[35m[2020-03-24:10:15:19:INFO] Sniff delimiter as ','\u001b[0m\n",
      "\u001b[35m[2020-03-24:10:15:19:INFO] Determined delimiter of CSV input is ','\u001b[0m\n",
      "\u001b[32m2020-03-24T10:15:18.931:[sagemaker logs]: MaxConcurrentTransforms=4, MaxPayloadInMB=6, BatchStrategy=MULTI_RECORD\u001b[0m\n"
     ]
    }
   ],
   "source": [
    "xgb_transformer.transform(test_location, content_type='text/csv', split_type='Line')\n",
    "\n",
    "xgb_transformer.wait()"
   ]
  },
  {
   "cell_type": "code",
   "execution_count": 33,
   "metadata": {},
   "outputs": [
    {
     "name": "stdout",
     "output_type": "stream",
     "text": [
      "download: s3://sagemaker-ap-southeast-1-364665614436/xgboost-200324-0910-020-642fc3ca-2020-03-24-10-11-55-836/test.csv.out to data/test.csv.out\n"
     ]
    }
   ],
   "source": [
    "!aws s3 cp --recursive $xgb_transformer.output_path $data_dir"
   ]
  },
  {
   "cell_type": "code",
   "execution_count": 34,
   "metadata": {},
   "outputs": [],
   "source": [
    "y_test = pd.read_csv(os.path.join(data_dir, 'test_y.csv'), header=None)\n",
    "y_pred = pd.read_csv(os.path.join(data_dir, 'test.csv.out'), header=None)\n",
    "# X_test_np = X_test.astype('float32')\n",
    "# y_test_np = y_test.astype('float32')"
   ]
  },
  {
   "cell_type": "code",
   "execution_count": 35,
   "metadata": {},
   "outputs": [],
   "source": [
    "labels = np.squeeze(y_test)\n",
    "predictions = np.squeeze(y_pred)"
   ]
  },
  {
   "cell_type": "code",
   "execution_count": 36,
   "metadata": {},
   "outputs": [],
   "source": [
    "fig_dir = 'fig'\n",
    "\n",
    "if not os.path.exists(fig_dir):\n",
    "    os.mkdir(fig_dir)"
   ]
  },
  {
   "cell_type": "code",
   "execution_count": 37,
   "metadata": {},
   "outputs": [
    {
     "data": {
      "image/png": "[encoded data removed]",
      "text/plain": [
       "<Figure size 432x288 with 1 Axes>"
      ]
     },
     "metadata": {},
     "output_type": "display_data"
    }
   ],
   "source": [
    "plt.scatter(labels, predictions, alpha=1/5)\n",
    "plt.xlabel(\"True price\")\n",
    "plt.ylabel(\"Predicted price\")\n",
    "plt.title(\"XGBoost model\")\n",
    "plt.savefig(os.path.join(fig_dir, 'xgboost_pred.jpg'))"
   ]
  },
  {
   "cell_type": "code",
   "execution_count": 38,
   "metadata": {},
   "outputs": [
    {
     "name": "stdout",
     "output_type": "stream",
     "text": [
      "R-squared score: 0.7832844072803054\n"
     ]
    }
   ],
   "source": [
    "from sklearn.metrics import r2_score\n",
    "\n",
    "score = r2_score(labels, predictions)\n",
    "\n",
    "print('R-squared score: {}'.format(score))"
   ]
  },
  {
   "cell_type": "code",
   "execution_count": 39,
   "metadata": {},
   "outputs": [
    {
     "name": "stdout",
     "output_type": "stream",
     "text": [
      "Min distance: 0.06835940000019036\n",
      "Max distance: 68591.40625\n",
      "Mean distance: 3193.5946961869945\n"
     ]
    }
   ],
   "source": [
    "distances = np.abs(labels - predictions)\n",
    "\n",
    "max_distance = np.max(distances)\n",
    "min_distance = np.min(distances)\n",
    "mean_distance = np.mean(distances)\n",
    "\n",
    "print('Min distance: {}'.format(min_distance))\n",
    "print('Max distance: {}'.format(max_distance))\n",
    "print('Mean distance: {}'.format(mean_distance))"
   ]
  }
 ],
 "metadata": {
  "kernelspec": {
   "display_name": "conda_pytorch_p36",
   "language": "python",
   "name": "conda_pytorch_p36"
  },
  "language_info": {
   "codemirror_mode": {
    "name": "ipython",
    "version": 3
   },
   "file_extension": ".py",
   "mimetype": "text/x-python",
   "name": "python",
   "nbconvert_exporter": "python",
   "pygments_lexer": "ipython3",
   "version": "3.6.5"
  }
 },
 "nbformat": 4,
 "nbformat_minor": 4
}
