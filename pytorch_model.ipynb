{
 "cells": [
  {
   "cell_type": "markdown",
   "metadata": {},
   "source": [
    "# PyTorch Model Local Testing"
   ]
  },
  {
   "cell_type": "code",
   "execution_count": 138,
   "metadata": {},
   "outputs": [],
   "source": [
    "import os\n",
    "import numpy as np\n",
    "import pandas as pd\n",
    "import torch\n",
    "import torch.optim as optim\n",
    "import torch.nn as nn\n",
    "import torch.utils.data\n",
    "\n",
    "import matplotlib.pyplot as plt"
   ]
  },
  {
   "cell_type": "code",
   "execution_count": 2,
   "metadata": {},
   "outputs": [],
   "source": [
    "data_dir = 'data'"
   ]
  },
  {
   "cell_type": "code",
   "execution_count": 179,
   "metadata": {},
   "outputs": [],
   "source": [
    "import torch.nn.functional as F\n",
    "import torch.nn as nn\n",
    "\n",
    "\n",
    "class LinearRegressor(nn.Module):\n",
    "\n",
    "    def __init__(self, input_dim):\n",
    "        super(LinearRegressor, self).__init__()\n",
    "\n",
    "        self.fc1 = nn.Linear(input_dim, 128)\n",
    "        self.fc2 = nn.Linear(128, 64)\n",
    "        self.output = nn.Linear(64, 1)\n",
    "        self.dropout = nn.Dropout(p=0.2)\n",
    "        \n",
    "#         self.output = nn.Linear(input_dim, 1)\n",
    "    \n",
    "    def forward(self, x):\n",
    "        x = self.fc1(x)\n",
    "        x = F.relu(x)\n",
    "        x = self.dropout(x)\n",
    "        x = self.fc2(x)\n",
    "        x = F.relu(x)\n",
    "        x = self.output(x)\n",
    "        \n",
    "#         x = self.output(x)\n",
    "        \n",
    "        return x"
   ]
  },
  {
   "cell_type": "code",
   "execution_count": 146,
   "metadata": {},
   "outputs": [],
   "source": [
    "def train(model, train_loader, validation_loader, epochs, criterion, optimizer, device, early_stop_patience = 10):\n",
    "    min_validation_loss = float(\"inf\")\n",
    "    patience = early_stop_patience\n",
    "    \n",
    "    for epoch in range(1, epochs + 1):\n",
    "        model.train() # Make sure that the model is in training mode.\n",
    "\n",
    "        train_loss = 0\n",
    "\n",
    "        for batch in train_loader:\n",
    "            # get data\n",
    "            batch_x, batch_y = batch\n",
    "\n",
    "            batch_x = batch_x.to(device)\n",
    "            batch_y = batch_y.to(device)\n",
    "\n",
    "            optimizer.zero_grad()\n",
    "\n",
    "            # get predictions from model\n",
    "            y_pred = model(batch_x)\n",
    "            \n",
    "            # perform backprop\n",
    "            loss = criterion(y_pred, batch_y)            \n",
    "            loss.backward()\n",
    "            \n",
    "            optimizer.step()\n",
    "            \n",
    "            train_loss += loss.item()\n",
    "        else:    \n",
    "            model.eval()\n",
    "\n",
    "            validation_loss = 0\n",
    "\n",
    "            with torch.no_grad():\n",
    "                for batch in validation_loader:\n",
    "                    batch_x, batch_y = batch\n",
    "\n",
    "                    batch_x = batch_x.to(device)\n",
    "                    batch_y = batch_y.to(device)\n",
    "\n",
    "                    # get predictions from model\n",
    "                    y_pred = model(batch_x)\n",
    "\n",
    "                    loss = criterion(y_pred, batch_y)\n",
    "\n",
    "                    validation_loss += loss.item()\n",
    "                    \n",
    "            validation_loss /= len(validation_loader)\n",
    "            \n",
    "            if validation_loss < min_validation_loss:\n",
    "                patience = early_stop_patience\n",
    "                \n",
    "                print('New validation loss minimum reached. Saving checkpoint')\n",
    "                \n",
    "                min_validation_loss = validation_loss\n",
    "                \n",
    "                torch.save(model.state_dict(), 'checkpoint.pth')\n",
    "            else:\n",
    "                patience -= 1\n",
    "                \n",
    "                if patience == 0:\n",
    "                    print('Early stopping condition reached. Stopping training')\n",
    "                    \n",
    "                    break\n",
    "\n",
    "        print(\"Epoch: {}, Train loss: {}, Validation loss: {}\".format(epoch, train_loss / len(train_loader), validation_loss))"
   ]
  },
  {
   "cell_type": "code",
   "execution_count": 54,
   "metadata": {},
   "outputs": [],
   "source": [
    "train_data = pd.read_csv(os.path.join(data_dir, 'train.csv'), header=None)\n",
    "validation_data = pd.read_csv(os.path.join(data_dir, 'validation.csv'), header=None)"
   ]
  },
  {
   "cell_type": "code",
   "execution_count": 119,
   "metadata": {},
   "outputs": [],
   "source": [
    "from sklearn import preprocessing\n",
    "\n",
    "min_max_scaler = preprocessing.MinMaxScaler()\n",
    "\n",
    "train_data_np = train_data.values\n",
    "train_data_np_y = train_data_np[:, 0]\n",
    "train_data_np = min_max_scaler.fit_transform(train_data_np)\n",
    "train_data_np[:, 0] = train_data_np_y\n",
    "\n",
    "validation_data_np = validation_data.values\n",
    "validation_data_np_y = validation_data_np[:, 0]\n",
    "validation_data_np = min_max_scaler.transform(validation_data_np)\n",
    "validation_data_np[:, 0] = validation_data_np_y"
   ]
  },
  {
   "cell_type": "code",
   "execution_count": 120,
   "metadata": {},
   "outputs": [],
   "source": [
    "train_y = torch.from_numpy(train_data_np[:,[0]]).float()\n",
    "train_x = torch.from_numpy(train_data_np[:,1:]).float()\n",
    "\n",
    "train_dataset = torch.utils.data.TensorDataset(train_x, train_y)\n",
    "\n",
    "validation_y = torch.from_numpy(validation_data_np[:,[0]]).float()\n",
    "validation_x = torch.from_numpy(validation_data_np[:,1:]).float()\n",
    "\n",
    "validation_dataset = torch.utils.data.TensorDataset(validation_x, validation_y)"
   ]
  },
  {
   "cell_type": "code",
   "execution_count": 121,
   "metadata": {},
   "outputs": [],
   "source": [
    "train_dataloader = torch.utils.data.DataLoader(train_dataset, batch_size=1000, shuffle=True)\n",
    "validation_dataloader = torch.utils.data.DataLoader(validation_dataset, batch_size=1000, shuffle=True)"
   ]
  },
  {
   "cell_type": "code",
   "execution_count": 110,
   "metadata": {},
   "outputs": [
    {
     "data": {
      "text/plain": [
       "device(type='cuda')"
      ]
     },
     "execution_count": 110,
     "metadata": {},
     "output_type": "execute_result"
    }
   ],
   "source": [
    "device = torch.device(\"cuda\" if torch.cuda.is_available() else \"cpu\")\n",
    "\n",
    "device"
   ]
  },
  {
   "cell_type": "code",
   "execution_count": 180,
   "metadata": {},
   "outputs": [],
   "source": [
    "model = LinearRegressor(train_x.shape[1])\n",
    "model.to(device)\n",
    "\n",
    "lr = 0.003\n",
    "\n",
    "optimizer = optim.Adam(model.parameters(), lr=lr)\n",
    "criterion = nn.MSELoss()"
   ]
  },
  {
   "cell_type": "code",
   "execution_count": 181,
   "metadata": {
    "scrolled": true
   },
   "outputs": [
    {
     "name": "stdout",
     "output_type": "stream",
     "text": [
      "New validation loss minimum reached. Saving checkpoint\n",
      "Epoch: 1, Train loss: 576980502.1935484, Validation loss: 124291314.37037037\n",
      "New validation loss minimum reached. Saving checkpoint\n",
      "Epoch: 2, Train loss: 149082320.40552995, Validation loss: 88268139.25925925\n",
      "New validation loss minimum reached. Saving checkpoint\n",
      "Epoch: 3, Train loss: 101444764.05529954, Validation loss: 72114449.18518518\n",
      "New validation loss minimum reached. Saving checkpoint\n",
      "Epoch: 4, Train loss: 76556516.29493088, Validation loss: 63352269.18518519\n",
      "New validation loss minimum reached. Saving checkpoint\n",
      "Epoch: 5, Train loss: 63556638.91244239, Validation loss: 59170822.074074075\n",
      "New validation loss minimum reached. Saving checkpoint\n",
      "Epoch: 6, Train loss: 57290029.38248848, Validation loss: 56004058.074074075\n",
      "New validation loss minimum reached. Saving checkpoint\n",
      "Epoch: 7, Train loss: 53914626.248847924, Validation loss: 54122833.18518519\n",
      "New validation loss minimum reached. Saving checkpoint\n",
      "Epoch: 8, Train loss: 51544209.84331797, Validation loss: 51807231.25925926\n",
      "New validation loss minimum reached. Saving checkpoint\n",
      "Epoch: 9, Train loss: 49689273.2718894, Validation loss: 50827008.74074074\n",
      "New validation loss minimum reached. Saving checkpoint\n",
      "Epoch: 10, Train loss: 48061058.30414747, Validation loss: 49998361.03703704\n",
      "New validation loss minimum reached. Saving checkpoint\n",
      "Epoch: 11, Train loss: 46679335.078341015, Validation loss: 49341541.18518519\n",
      "New validation loss minimum reached. Saving checkpoint\n",
      "Epoch: 12, Train loss: 45325548.1843318, Validation loss: 48518514.518518515\n",
      "New validation loss minimum reached. Saving checkpoint\n",
      "Epoch: 13, Train loss: 44182956.534562215, Validation loss: 48373908.44444445\n",
      "New validation loss minimum reached. Saving checkpoint\n",
      "Epoch: 14, Train loss: 43104238.5437788, Validation loss: 48344575.11111111\n",
      "New validation loss minimum reached. Saving checkpoint\n",
      "Epoch: 15, Train loss: 42003332.34101383, Validation loss: 47688779.25925926\n",
      "New validation loss minimum reached. Saving checkpoint\n",
      "Epoch: 16, Train loss: 40984454.138248846, Validation loss: 47544188.2962963\n",
      "New validation loss minimum reached. Saving checkpoint\n",
      "Epoch: 17, Train loss: 39835255.76036866, Validation loss: 47325893.62962963\n",
      "New validation loss minimum reached. Saving checkpoint\n",
      "Epoch: 18, Train loss: 38575132.838709675, Validation loss: 46615798.96296296\n",
      "New validation loss minimum reached. Saving checkpoint\n",
      "Epoch: 19, Train loss: 37121485.548387095, Validation loss: 46181114.222222224\n",
      "New validation loss minimum reached. Saving checkpoint\n",
      "Epoch: 20, Train loss: 35688587.9078341, Validation loss: 45879103.55555555\n",
      "New validation loss minimum reached. Saving checkpoint\n",
      "Epoch: 21, Train loss: 34226726.1843318, Validation loss: 45460106.518518515\n",
      "New validation loss minimum reached. Saving checkpoint\n",
      "Epoch: 22, Train loss: 32905310.423963133, Validation loss: 45071082.518518515\n",
      "New validation loss minimum reached. Saving checkpoint\n",
      "Epoch: 23, Train loss: 31728104.239631336, Validation loss: 44772492.88888889\n",
      "New validation loss minimum reached. Saving checkpoint\n",
      "Epoch: 24, Train loss: 30632648.525345623, Validation loss: 44545158.37037037\n",
      "New validation loss minimum reached. Saving checkpoint\n",
      "Epoch: 25, Train loss: 29703542.0921659, Validation loss: 44313087.7037037\n",
      "New validation loss minimum reached. Saving checkpoint\n",
      "Epoch: 26, Train loss: 28924321.096774194, Validation loss: 44099391.7037037\n",
      "New validation loss minimum reached. Saving checkpoint\n",
      "Epoch: 27, Train loss: 28205839.82488479, Validation loss: 43856317.481481485\n",
      "New validation loss minimum reached. Saving checkpoint\n",
      "Epoch: 28, Train loss: 27487684.423963133, Validation loss: 43676801.03703704\n",
      "Epoch: 29, Train loss: 26965934.01843318, Validation loss: 43771672.2962963\n",
      "New validation loss minimum reached. Saving checkpoint\n",
      "Epoch: 30, Train loss: 26379668.488479264, Validation loss: 43229167.40740741\n",
      "New validation loss minimum reached. Saving checkpoint\n",
      "Epoch: 31, Train loss: 25844181.9078341, Validation loss: 43127957.03703704\n",
      "New validation loss minimum reached. Saving checkpoint\n",
      "Epoch: 32, Train loss: 25269346.69124424, Validation loss: 42872999.333333336\n",
      "New validation loss minimum reached. Saving checkpoint\n",
      "Epoch: 33, Train loss: 24964218.258064516, Validation loss: 42539138.96296296\n",
      "New validation loss minimum reached. Saving checkpoint\n",
      "Epoch: 34, Train loss: 24503415.705069125, Validation loss: 42425676.59259259\n",
      "New validation loss minimum reached. Saving checkpoint\n",
      "Epoch: 35, Train loss: 23942080.202764977, Validation loss: 42344672.74074074\n",
      "New validation loss minimum reached. Saving checkpoint\n",
      "Epoch: 36, Train loss: 23695765.86175115, Validation loss: 42140268.59259259\n",
      "New validation loss minimum reached. Saving checkpoint\n",
      "Epoch: 37, Train loss: 23268017.80184332, Validation loss: 42028937.62962963\n",
      "Epoch: 38, Train loss: 22897230.07373272, Validation loss: 42048507.40740741\n",
      "New validation loss minimum reached. Saving checkpoint\n",
      "Epoch: 39, Train loss: 22458521.797235023, Validation loss: 41891819.7037037\n",
      "New validation loss minimum reached. Saving checkpoint\n",
      "Epoch: 40, Train loss: 22207554.543778803, Validation loss: 41729407.925925925\n",
      "New validation loss minimum reached. Saving checkpoint\n",
      "Epoch: 41, Train loss: 21775585.811059907, Validation loss: 41333180.2962963\n",
      "Epoch: 42, Train loss: 21481037.207373273, Validation loss: 41593071.11111111\n",
      "Epoch: 43, Train loss: 21116569.529953916, Validation loss: 41574989.62962963\n",
      "New validation loss minimum reached. Saving checkpoint\n",
      "Epoch: 44, Train loss: 20846438.70046083, Validation loss: 41216640.14814815\n",
      "New validation loss minimum reached. Saving checkpoint\n",
      "Epoch: 45, Train loss: 20412146.751152072, Validation loss: 40999450.222222224\n",
      "Epoch: 46, Train loss: 20115437.11059908, Validation loss: 41092984.0\n",
      "New validation loss minimum reached. Saving checkpoint\n",
      "Epoch: 47, Train loss: 19961919.474654377, Validation loss: 40981479.481481485\n",
      "New validation loss minimum reached. Saving checkpoint\n",
      "Epoch: 48, Train loss: 19575369.460829493, Validation loss: 40689198.074074075\n",
      "Epoch: 49, Train loss: 19330287.603686634, Validation loss: 40833963.40740741\n",
      "Epoch: 50, Train loss: 19059010.44700461, Validation loss: 40755141.18518519\n",
      "New validation loss minimum reached. Saving checkpoint\n",
      "Epoch: 51, Train loss: 18875397.2718894, Validation loss: 40546403.25925926\n",
      "Epoch: 52, Train loss: 18632963.53456221, Validation loss: 40570026.666666664\n",
      "New validation loss minimum reached. Saving checkpoint\n",
      "Epoch: 53, Train loss: 18375727.433179725, Validation loss: 40520508.44444445\n",
      "New validation loss minimum reached. Saving checkpoint\n",
      "Epoch: 54, Train loss: 18171613.502304148, Validation loss: 40108354.44444445\n",
      "Epoch: 55, Train loss: 17882182.91705069, Validation loss: 40228426.14814815\n",
      "New validation loss minimum reached. Saving checkpoint\n",
      "Epoch: 56, Train loss: 17772627.631336406, Validation loss: 40074554.14814815\n",
      "New validation loss minimum reached. Saving checkpoint\n",
      "Epoch: 57, Train loss: 17524278.423963133, Validation loss: 39867085.03703704\n",
      "Epoch: 58, Train loss: 17368244.129032258, Validation loss: 40085551.40740741\n",
      "Epoch: 59, Train loss: 17264188.74654378, Validation loss: 39998628.88888889\n",
      "Epoch: 60, Train loss: 17055141.350230414, Validation loss: 40268055.925925925\n",
      "New validation loss minimum reached. Saving checkpoint\n",
      "Epoch: 61, Train loss: 16900848.99078341, Validation loss: 39702044.88888889\n",
      "Epoch: 62, Train loss: 16825581.08294931, Validation loss: 39822001.62962963\n",
      "Epoch: 63, Train loss: 16642771.235023042, Validation loss: 39748478.518518515\n",
      "New validation loss minimum reached. Saving checkpoint\n",
      "Epoch: 64, Train loss: 16461563.31797235, Validation loss: 39663943.62962963\n",
      "Epoch: 65, Train loss: 16389775.082949309, Validation loss: 39760944.37037037\n",
      "New validation loss minimum reached. Saving checkpoint\n",
      "Epoch: 66, Train loss: 16268229.552995391, Validation loss: 39360848.0\n",
      "New validation loss minimum reached. Saving checkpoint\n",
      "Epoch: 67, Train loss: 16101686.207373273, Validation loss: 39067123.925925925\n",
      "Epoch: 68, Train loss: 15992842.921658985, Validation loss: 39224436.81481481\n",
      "Epoch: 69, Train loss: 15920887.769585254, Validation loss: 39598359.25925926\n",
      "Epoch: 70, Train loss: 15826069.313364055, Validation loss: 39247737.11111111\n",
      "Epoch: 71, Train loss: 15659593.764976958, Validation loss: 39195801.777777776\n",
      "Epoch: 72, Train loss: 15578773.350230414, Validation loss: 39322715.925925925\n",
      "New validation loss minimum reached. Saving checkpoint\n",
      "Epoch: 73, Train loss: 15499598.322580645, Validation loss: 38957746.96296296\n",
      "Epoch: 74, Train loss: 15348606.175115207, Validation loss: 39038831.40740741\n",
      "Epoch: 75, Train loss: 15308831.700460829, Validation loss: 39316001.62962963\n",
      "Epoch: 76, Train loss: 15251235.188940093, Validation loss: 39025262.0\n",
      "Epoch: 77, Train loss: 15113867.792626727, Validation loss: 38967143.925925925\n",
      "New validation loss minimum reached. Saving checkpoint\n",
      "Epoch: 78, Train loss: 15035842.806451613, Validation loss: 38936068.0\n",
      "Epoch: 79, Train loss: 14881194.829493087, Validation loss: 39189630.518518515\n",
      "Epoch: 80, Train loss: 14828170.728110598, Validation loss: 39188652.0\n",
      "Epoch: 81, Train loss: 14796976.99078341, Validation loss: 39268553.481481485\n",
      "Epoch: 82, Train loss: 14591717.216589862, Validation loss: 39069751.03703704\n",
      "New validation loss minimum reached. Saving checkpoint\n",
      "Epoch: 83, Train loss: 14494007.235023042, Validation loss: 38740554.88888889\n",
      "Epoch: 84, Train loss: 14467498.41935484, Validation loss: 38988259.11111111\n",
      "Epoch: 85, Train loss: 14425916.96313364, Validation loss: 39105753.25925926\n",
      "New validation loss minimum reached. Saving checkpoint\n",
      "Epoch: 86, Train loss: 14299679.161290323, Validation loss: 38683148.2962963\n",
      "Epoch: 87, Train loss: 14171055.179723503, Validation loss: 39033945.333333336\n",
      "New validation loss minimum reached. Saving checkpoint\n",
      "Epoch: 88, Train loss: 14176696.161290323, Validation loss: 38645603.925925925\n",
      "Epoch: 89, Train loss: 14141875.898617512, Validation loss: 39112715.18518519\n",
      "Epoch: 90, Train loss: 14109624.622119816, Validation loss: 39105355.7037037\n",
      "Epoch: 91, Train loss: 13968040.695852535, Validation loss: 38969277.62962963\n",
      "Epoch: 92, Train loss: 13858996.3640553, Validation loss: 38727271.62962963\n",
      "New validation loss minimum reached. Saving checkpoint\n",
      "Epoch: 93, Train loss: 13887971.543778801, Validation loss: 38595690.2962963\n",
      "Epoch: 94, Train loss: 13779803.04608295, Validation loss: 38836756.2962963\n",
      "Epoch: 95, Train loss: 13663075.732718894, Validation loss: 39220298.88888889\n",
      "Epoch: 96, Train loss: 13642148.935483871, Validation loss: 39008054.222222224\n",
      "Epoch: 97, Train loss: 13595842.110599078, Validation loss: 38906175.62962963\n",
      "Epoch: 98, Train loss: 13530878.843317972, Validation loss: 38797414.14814815\n",
      "Epoch: 99, Train loss: 13433673.161290323, Validation loss: 39000048.96296296\n",
      "Epoch: 100, Train loss: 13377525.387096774, Validation loss: 39076996.44444445\n",
      "Epoch: 101, Train loss: 13420700.179723503, Validation loss: 38878388.37037037\n",
      "Epoch: 102, Train loss: 13376041.986175114, Validation loss: 38934409.03703704\n",
      "Early stopping condition reached. Stopping training\n"
     ]
    }
   ],
   "source": [
    "epochs = 600\n",
    "\n",
    "train(model, train_dataloader, validation_dataloader, epochs, criterion, optimizer, device)"
   ]
  },
  {
   "cell_type": "code",
   "execution_count": 163,
   "metadata": {},
   "outputs": [],
   "source": [
    "X_test = pd.read_csv(os.path.join(data_dir, 'test.csv'), header=None).values\n",
    "y_test = pd.read_csv(os.path.join(data_dir, 'test_y.csv'), header=None).values"
   ]
  },
  {
   "cell_type": "code",
   "execution_count": 164,
   "metadata": {},
   "outputs": [],
   "source": [
    "test_data_np = np.concatenate([y_test, X_test], axis=1)\n",
    "test_data_np_y = test_data_np[:, 0]\n",
    "test_data_np = min_max_scaler.transform(test_data_np)\n",
    "test_data_np[:, 0] = test_data_np_y"
   ]
  },
  {
   "cell_type": "code",
   "execution_count": 183,
   "metadata": {
    "scrolled": true
   },
   "outputs": [],
   "source": [
    "test_input = torch.from_numpy(test_data_np[:,1:]).float()\n",
    "\n",
    "model.eval()\n",
    "\n",
    "with torch.no_grad():\n",
    "    predictions = model(test_input.to(device))\n",
    "    \n",
    "predictions = predictions.cpu().detach().numpy()\n",
    "labels = y_test"
   ]
  },
  {
   "cell_type": "code",
   "execution_count": 184,
   "metadata": {},
   "outputs": [
    {
     "data": {
      "text/plain": [
       "Text(0.5, 1.0, 'True Price vs Predicted Price')"
      ]
     },
     "execution_count": 184,
     "metadata": {},
     "output_type": "execute_result"
    },
    {
     "data": {
      "image/png": "[encoded data removed]",
      "text/plain": [
       "<Figure size 432x288 with 1 Axes>"
      ]
     },
     "metadata": {
      "needs_background": "light"
     },
     "output_type": "display_data"
    }
   ],
   "source": [
    "plt.scatter(labels, predictions, alpha=1/5)\n",
    "plt.xlabel(\"True Price\")\n",
    "plt.ylabel(\"Predicted Price\")\n",
    "plt.title(\"True Price vs Predicted Price\")"
   ]
  },
  {
   "cell_type": "code",
   "execution_count": 185,
   "metadata": {},
   "outputs": [
    {
     "name": "stdout",
     "output_type": "stream",
     "text": [
      "R-squared score: 0.6912532014217454\n"
     ]
    }
   ],
   "source": [
    "from sklearn.metrics import r2_score\n",
    "\n",
    "score = r2_score(labels, predictions)\n",
    "\n",
    "print('R-squared score: {}'.format(score))"
   ]
  },
  {
   "cell_type": "code",
   "execution_count": 186,
   "metadata": {},
   "outputs": [
    {
     "name": "stdout",
     "output_type": "stream",
     "text": [
      "Min distance: 0.435546875\n",
      "Max distance: 78114.62890625\n",
      "Mean distance: 3990.8210421325202\n"
     ]
    }
   ],
   "source": [
    "distances = np.abs(labels - predictions)\n",
    "\n",
    "max_distance = np.max(distances)\n",
    "min_distance = np.min(distances)\n",
    "mean_distance = np.mean(distances)\n",
    "\n",
    "print('Min distance: {}'.format(min_distance))\n",
    "print('Max distance: {}'.format(max_distance))\n",
    "print('Mean distance: {}'.format(mean_distance))"
   ]
  }
 ],
 "metadata": {
  "kernelspec": {
   "display_name": "Python 3",
   "language": "python",
   "name": "python3"
  },
  "language_info": {
   "codemirror_mode": {
    "name": "ipython",
    "version": 3
   },
   "file_extension": ".py",
   "mimetype": "text/x-python",
   "name": "python",
   "nbconvert_exporter": "python",
   "pygments_lexer": "ipython3",
   "version": "3.7.4"
  }
 },
 "nbformat": 4,
 "nbformat_minor": 4
}
