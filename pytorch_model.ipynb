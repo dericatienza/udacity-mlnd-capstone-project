{
 "cells": [
  {
   "cell_type": "markdown",
   "metadata": {},
   "source": [
    "# PyTorch model\n",
    "In this final notebook, we will be building our own custom PyTorch model to train and run predictions on."
   ]
  },
  {
   "cell_type": "code",
   "execution_count": 1,
   "metadata": {},
   "outputs": [],
   "source": [
    "# Import libraries\n",
    "\n",
    "import os\n",
    "import numpy as np\n",
    "import pandas as pd\n",
    "import torch\n",
    "import torch.optim as optim\n",
    "import torch.nn as nn\n",
    "import torch.utils.data\n",
    "\n",
    "import matplotlib.pyplot as plt"
   ]
  },
  {
   "cell_type": "code",
   "execution_count": 2,
   "metadata": {},
   "outputs": [],
   "source": [
    "data_dir = 'data'"
   ]
  },
  {
   "cell_type": "markdown",
   "metadata": {},
   "source": [
    "## Building\n",
    "\n",
    "Here, we will define the model. Our model will consist of two fully-connected hidden layers with ReLu activations. There will also be a dropout layer in between the second hidden layer and output layer. Since we want a continuous numerical value as output, our final layer will also be a fully-connected layer with one neuron."
   ]
  },
  {
   "cell_type": "code",
   "execution_count": 3,
   "metadata": {},
   "outputs": [],
   "source": [
    "import torch.nn.functional as F\n",
    "import torch.nn as nn\n",
    "\n",
    "\n",
    "class LinearRegressor(nn.Module):\n",
    "\n",
    "    def __init__(self, input_dim):\n",
    "        super(LinearRegressor, self).__init__()\n",
    "\n",
    "        self.fc1 = nn.Linear(input_dim, 128)\n",
    "        self.fc2 = nn.Linear(128, 64)\n",
    "        self.output = nn.Linear(64, 1)\n",
    "        self.dropout = nn.Dropout(p=0.2)\n",
    "    \n",
    "    def forward(self, x):\n",
    "        x = self.fc1(x)\n",
    "        x = F.relu(x)\n",
    "        x = self.dropout(x)\n",
    "        x = self.fc2(x)\n",
    "        x = F.relu(x)\n",
    "        x = self.dropout(x)\n",
    "        x = self.output(x)\n",
    "        \n",
    "        return x"
   ]
  },
  {
   "cell_type": "markdown",
   "metadata": {},
   "source": [
    "## Training\n",
    "We will use the _train_ function below to train the model. It supports early stopping in case our validation loss does not improve after a certain number of epochs and we want to stop training early."
   ]
  },
  {
   "cell_type": "code",
   "execution_count": 43,
   "metadata": {},
   "outputs": [],
   "source": [
    "def train(model, train_loader, validation_loader, epochs, criterion, optimizer, device, early_stop_patience = 10):\n",
    "    min_validation_loss = float(\"inf\")\n",
    "    patience = early_stop_patience\n",
    "    \n",
    "    for epoch in range(1, epochs + 1):\n",
    "        model.train() # Make sure that the model is in training mode.\n",
    "\n",
    "        train_loss = 0\n",
    "\n",
    "        for batch in train_loader:\n",
    "            # get data\n",
    "            batch_x, batch_y = batch\n",
    "\n",
    "            batch_x = batch_x.to(device)\n",
    "            batch_y = batch_y.to(device)\n",
    "\n",
    "            optimizer.zero_grad()\n",
    "\n",
    "            # get predictions from model\n",
    "            y_pred = model(batch_x)\n",
    "            \n",
    "            # perform backprop\n",
    "            loss = criterion(y_pred, batch_y)            \n",
    "            loss.backward()\n",
    "            \n",
    "            optimizer.step()\n",
    "            \n",
    "            train_loss += loss.item()\n",
    "        else:    \n",
    "            model.eval()\n",
    "\n",
    "            validation_loss = 0\n",
    "\n",
    "            with torch.no_grad():\n",
    "                for batch in validation_loader:\n",
    "                    batch_x, batch_y = batch\n",
    "\n",
    "                    batch_x = batch_x.to(device)\n",
    "                    batch_y = batch_y.to(device)\n",
    "\n",
    "                    # get predictions from model\n",
    "                    y_pred = model(batch_x)\n",
    "\n",
    "                    loss = criterion(y_pred, batch_y)\n",
    "\n",
    "                    validation_loss += loss.item()\n",
    "                    \n",
    "            validation_loss /= len(validation_loader)\n",
    "            \n",
    "            if validation_loss < min_validation_loss:\n",
    "                patience = early_stop_patience\n",
    "                \n",
    "                print('New validation loss minimum reached. Saving checkpoint')\n",
    "                \n",
    "                min_validation_loss = validation_loss\n",
    "                \n",
    "                torch.save(model.state_dict(), 'checkpoint.pth')\n",
    "            else:\n",
    "                patience -= 1\n",
    "                \n",
    "                if patience == 0:\n",
    "                    print('Early stopping condition reached. Stopping training')\n",
    "                    \n",
    "                    break\n",
    "\n",
    "        print(\"Epoch: {}, Train loss: {}, Validation loss: {}\".format(epoch, train_loss / len(train_loader), validation_loss))"
   ]
  },
  {
   "cell_type": "markdown",
   "metadata": {},
   "source": [
    "We load in the training and validation dataset. \n",
    "\n",
    "Since we are using a custom model, we will have to implement normalization ourselves. We will use scikit-learn's MinMaxScaler for normalization. What it does is it scales the values in each column from 0-1 based on the value's ratio to the minimum and maximum value of the column it is in. More on MinMaxScaler here https://scikit-learn.org/stable/modules/generated/sklearn.preprocessing.MinMaxScaler.html. To remain consistent with the behaviors of the LinearLearner and XGBoost model, we will will not normalize the price label."
   ]
  },
  {
   "cell_type": "code",
   "execution_count": 4,
   "metadata": {},
   "outputs": [],
   "source": [
    "train_data = pd.read_csv(os.path.join(data_dir, 'train.csv'), header=None)\n",
    "validation_data = pd.read_csv(os.path.join(data_dir, 'validation.csv'), header=None)"
   ]
  },
  {
   "cell_type": "code",
   "execution_count": 5,
   "metadata": {},
   "outputs": [],
   "source": [
    "from sklearn import preprocessing\n",
    "\n",
    "min_max_scaler = preprocessing.MinMaxScaler()\n",
    "\n",
    "train_data_np = train_data.values\n",
    "train_data_np_y = train_data_np[:, 0]\n",
    "train_data_np = min_max_scaler.fit_transform(train_data_np)\n",
    "train_data_np[:, 0] = train_data_np_y\n",
    "\n",
    "validation_data_np = validation_data.values\n",
    "validation_data_np_y = validation_data_np[:, 0]\n",
    "validation_data_np = min_max_scaler.transform(validation_data_np)\n",
    "validation_data_np[:, 0] = validation_data_np_y"
   ]
  },
  {
   "cell_type": "markdown",
   "metadata": {},
   "source": [
    "After normalization, we can now format the train and validation dataset to be put into a DataLoader which we will use for training the model."
   ]
  },
  {
   "cell_type": "code",
   "execution_count": 6,
   "metadata": {},
   "outputs": [],
   "source": [
    "train_y = torch.from_numpy(train_data_np[:,[0]]).float()\n",
    "train_x = torch.from_numpy(train_data_np[:,1:]).float()\n",
    "\n",
    "train_dataset = torch.utils.data.TensorDataset(train_x, train_y)\n",
    "\n",
    "validation_y = torch.from_numpy(validation_data_np[:,[0]]).float()\n",
    "validation_x = torch.from_numpy(validation_data_np[:,1:]).float()\n",
    "\n",
    "validation_dataset = torch.utils.data.TensorDataset(validation_x, validation_y)"
   ]
  },
  {
   "cell_type": "code",
   "execution_count": 7,
   "metadata": {},
   "outputs": [],
   "source": [
    "train_dataloader = torch.utils.data.DataLoader(train_dataset, batch_size=1000, shuffle=True)\n",
    "validation_dataloader = torch.utils.data.DataLoader(validation_dataset, batch_size=1000, shuffle=True)"
   ]
  },
  {
   "cell_type": "code",
   "execution_count": 8,
   "metadata": {},
   "outputs": [
    {
     "data": {
      "text/plain": [
       "device(type='cuda')"
      ]
     },
     "execution_count": 8,
     "metadata": {},
     "output_type": "execute_result"
    }
   ],
   "source": [
    "device = torch.device(\"cuda\" if torch.cuda.is_available() else \"cpu\")\n",
    "\n",
    "device"
   ]
  },
  {
   "cell_type": "markdown",
   "metadata": {},
   "source": [
    "Here, we will instantiate the model by supplying it with the input dimensions of our dataset.\n",
    "\n",
    "We will use a learning rate of 0.001. As for the optimizer and loss function, I have decided to use Adam and Mean Squared Error(MSE)."
   ]
  },
  {
   "cell_type": "code",
   "execution_count": 9,
   "metadata": {},
   "outputs": [],
   "source": [
    "model = LinearRegressor(train_x.shape[1])\n",
    "model.to(device)\n",
    "\n",
    "lr = 0.001\n",
    "\n",
    "optimizer = optim.Adam(model.parameters(), lr=lr)\n",
    "criterion = nn.MSELoss()"
   ]
  },
  {
   "cell_type": "markdown",
   "metadata": {},
   "source": [
    "We start training for maximum of 300 epochs."
   ]
  },
  {
   "cell_type": "code",
   "execution_count": 58,
   "metadata": {
    "scrolled": true
   },
   "outputs": [
    {
     "name": "stdout",
     "output_type": "stream",
     "text": [
      "New validation loss minimum reached. Saving checkpoint\n",
      "Epoch: 1, Train loss: 843259303.4766355, Validation loss: 556914428.3076923\n",
      "New validation loss minimum reached. Saving checkpoint\n",
      "Epoch: 2, Train loss: 536134031.7009346, Validation loss: 148743276.30769232\n",
      "New validation loss minimum reached. Saving checkpoint\n",
      "Epoch: 3, Train loss: 202468473.79439253, Validation loss: 112412676.61538461\n",
      "New validation loss minimum reached. Saving checkpoint\n",
      "Epoch: 4, Train loss: 152573312.0, Validation loss: 99485026.15384616\n",
      "New validation loss minimum reached. Saving checkpoint\n",
      "Epoch: 5, Train loss: 132132815.51401868, Validation loss: 85917260.92307693\n",
      "New validation loss minimum reached. Saving checkpoint\n",
      "Epoch: 6, Train loss: 114693307.88785046, Validation loss: 75321177.84615384\n",
      "New validation loss minimum reached. Saving checkpoint\n",
      "Epoch: 7, Train loss: 99769578.80373831, Validation loss: 65968213.23076923\n",
      "New validation loss minimum reached. Saving checkpoint\n",
      "Epoch: 8, Train loss: 86954416.63551402, Validation loss: 57704246.76923077\n",
      "New validation loss minimum reached. Saving checkpoint\n",
      "Epoch: 9, Train loss: 76311948.37383178, Validation loss: 51680247.692307696\n",
      "New validation loss minimum reached. Saving checkpoint\n",
      "Epoch: 10, Train loss: 67338781.27102804, Validation loss: 46283134.92307692\n",
      "New validation loss minimum reached. Saving checkpoint\n",
      "Epoch: 11, Train loss: 59905416.971962616, Validation loss: 42403043.692307696\n",
      "New validation loss minimum reached. Saving checkpoint\n",
      "Epoch: 12, Train loss: 54422258.224299066, Validation loss: 39382159.84615385\n",
      "New validation loss minimum reached. Saving checkpoint\n",
      "Epoch: 13, Train loss: 50010235.73831776, Validation loss: 37088041.538461536\n",
      "New validation loss minimum reached. Saving checkpoint\n",
      "Epoch: 14, Train loss: 46700606.57943925, Validation loss: 35323514.0\n",
      "New validation loss minimum reached. Saving checkpoint\n",
      "Epoch: 15, Train loss: 44375141.06542056, Validation loss: 33979288.76923077\n",
      "New validation loss minimum reached. Saving checkpoint\n",
      "Epoch: 16, Train loss: 42363240.21495327, Validation loss: 32834364.384615384\n",
      "New validation loss minimum reached. Saving checkpoint\n",
      "Epoch: 17, Train loss: 41016507.719626166, Validation loss: 31889487.53846154\n",
      "New validation loss minimum reached. Saving checkpoint\n",
      "Epoch: 18, Train loss: 39789548.19626168, Validation loss: 31205191.384615384\n",
      "New validation loss minimum reached. Saving checkpoint\n",
      "Epoch: 19, Train loss: 38531007.37383178, Validation loss: 30632224.769230768\n",
      "New validation loss minimum reached. Saving checkpoint\n",
      "Epoch: 20, Train loss: 37537824.028037384, Validation loss: 30146736.769230768\n",
      "New validation loss minimum reached. Saving checkpoint\n",
      "Epoch: 21, Train loss: 36778584.69158878, Validation loss: 29848241.769230768\n",
      "New validation loss minimum reached. Saving checkpoint\n",
      "Epoch: 22, Train loss: 36062343.48598131, Validation loss: 29605850.0\n",
      "New validation loss minimum reached. Saving checkpoint\n",
      "Epoch: 23, Train loss: 35476491.224299066, Validation loss: 29459504.307692308\n",
      "New validation loss minimum reached. Saving checkpoint\n",
      "Epoch: 24, Train loss: 35088124.55140187, Validation loss: 29328997.615384616\n",
      "New validation loss minimum reached. Saving checkpoint\n",
      "Epoch: 25, Train loss: 34509276.5046729, Validation loss: 29248916.53846154\n",
      "New validation loss minimum reached. Saving checkpoint\n",
      "Epoch: 26, Train loss: 34158405.728971966, Validation loss: 29179145.923076924\n",
      "New validation loss minimum reached. Saving checkpoint\n",
      "Epoch: 27, Train loss: 33635176.81308411, Validation loss: 29155291.615384616\n",
      "New validation loss minimum reached. Saving checkpoint\n",
      "Epoch: 28, Train loss: 33492336.38317757, Validation loss: 29147454.153846152\n",
      "Epoch: 29, Train loss: 33109754.392523363, Validation loss: 29192603.307692308\n",
      "Epoch: 30, Train loss: 32864568.439252336, Validation loss: 29159812.53846154\n",
      "New validation loss minimum reached. Saving checkpoint\n",
      "Epoch: 31, Train loss: 32724122.87850467, Validation loss: 29069556.46153846\n",
      "New validation loss minimum reached. Saving checkpoint\n",
      "Epoch: 32, Train loss: 32557042.58878505, Validation loss: 29040893.769230768\n",
      "New validation loss minimum reached. Saving checkpoint\n",
      "Epoch: 33, Train loss: 32220679.392523363, Validation loss: 28879137.0\n",
      "Epoch: 34, Train loss: 32067263.607476637, Validation loss: 28985345.923076924\n",
      "New validation loss minimum reached. Saving checkpoint\n",
      "Epoch: 35, Train loss: 32020004.25233645, Validation loss: 28786827.46153846\n",
      "Epoch: 36, Train loss: 31701064.65420561, Validation loss: 28823848.769230768\n",
      "New validation loss minimum reached. Saving checkpoint\n",
      "Epoch: 37, Train loss: 31577593.887850467, Validation loss: 28750391.769230768\n",
      "New validation loss minimum reached. Saving checkpoint\n",
      "Epoch: 38, Train loss: 31340166.644859813, Validation loss: 28678993.769230768\n",
      "Epoch: 39, Train loss: 31295210.53271028, Validation loss: 28778994.846153848\n",
      "Epoch: 40, Train loss: 30962695.710280374, Validation loss: 28858487.615384616\n",
      "Epoch: 41, Train loss: 30929238.514018692, Validation loss: 28862694.153846152\n",
      "Epoch: 42, Train loss: 30839198.308411215, Validation loss: 28721064.384615384\n",
      "Epoch: 43, Train loss: 30819984.14953271, Validation loss: 28843553.615384616\n",
      "Epoch: 44, Train loss: 30479385.859813083, Validation loss: 28822655.923076924\n",
      "Epoch: 45, Train loss: 30534185.85046729, Validation loss: 28899982.230769232\n",
      "Epoch: 46, Train loss: 30388479.542056076, Validation loss: 28855934.46153846\n",
      "Epoch: 47, Train loss: 30213307.87850467, Validation loss: 28807124.846153848\n",
      "Epoch: 48, Train loss: 30025746.0, Validation loss: 28695117.230769232\n",
      "Epoch: 49, Train loss: 29818120.691588785, Validation loss: 28720861.384615384\n",
      "Epoch: 50, Train loss: 29754467.06542056, Validation loss: 28734639.076923076\n",
      "Epoch: 51, Train loss: 29325444.028037384, Validation loss: 28799607.53846154\n",
      "Epoch: 52, Train loss: 29155308.261682242, Validation loss: 28692140.923076924\n",
      "New validation loss minimum reached. Saving checkpoint\n",
      "Epoch: 53, Train loss: 29070557.6635514, Validation loss: 28444438.0\n",
      "Epoch: 54, Train loss: 28800844.102803737, Validation loss: 28598031.307692308\n",
      "Epoch: 55, Train loss: 28700423.38317757, Validation loss: 28580646.53846154\n",
      "Epoch: 56, Train loss: 28526072.80373832, Validation loss: 28582161.615384616\n",
      "Epoch: 57, Train loss: 28457929.897196263, Validation loss: 28547377.46153846\n",
      "New validation loss minimum reached. Saving checkpoint\n",
      "Epoch: 58, Train loss: 28283871.420560747, Validation loss: 28373770.384615384\n",
      "Epoch: 59, Train loss: 28052043.626168225, Validation loss: 28441354.384615384\n",
      "Epoch: 60, Train loss: 27881341.242990654, Validation loss: 28462111.230769232\n",
      "Epoch: 61, Train loss: 27804161.364485983, Validation loss: 28429452.615384616\n",
      "Epoch: 62, Train loss: 27574203.12149533, Validation loss: 28379078.846153848\n",
      "New validation loss minimum reached. Saving checkpoint\n",
      "Epoch: 63, Train loss: 27392073.074766356, Validation loss: 28336836.153846152\n",
      "New validation loss minimum reached. Saving checkpoint\n",
      "Epoch: 64, Train loss: 27214292.233644858, Validation loss: 28219748.076923076\n",
      "Epoch: 65, Train loss: 27085722.168224297, Validation loss: 28368420.692307692\n",
      "Epoch: 66, Train loss: 26883343.355140187, Validation loss: 28354980.923076924\n",
      "Epoch: 67, Train loss: 26746445.953271028, Validation loss: 28359750.692307692\n",
      "Epoch: 68, Train loss: 26710979.44859813, Validation loss: 28275092.692307692\n",
      "Epoch: 69, Train loss: 26573351.728971962, Validation loss: 28471911.0\n",
      "Epoch: 70, Train loss: 26393280.887850467, Validation loss: 28420222.384615384\n",
      "Epoch: 71, Train loss: 26335565.01869159, Validation loss: 28292644.46153846\n",
      "Epoch: 72, Train loss: 26230544.710280374, Validation loss: 28288012.769230768\n",
      "Epoch: 73, Train loss: 26209806.794392522, Validation loss: 28343464.384615384\n",
      "Epoch: 74, Train loss: 25993542.140186917, Validation loss: 28397443.384615384\n",
      "Epoch: 75, Train loss: 25930400.822429907, Validation loss: 28637745.230769232\n",
      "Epoch: 76, Train loss: 25825065.429906543, Validation loss: 28339542.769230768\n",
      "New validation loss minimum reached. Saving checkpoint\n",
      "Epoch: 77, Train loss: 25739830.25233645, Validation loss: 28167010.53846154\n",
      "Epoch: 78, Train loss: 25772286.55140187, Validation loss: 28243045.384615384\n",
      "Epoch: 79, Train loss: 25668268.41121495, Validation loss: 28272726.0\n",
      "Epoch: 80, Train loss: 25599320.65420561, Validation loss: 28285662.0\n",
      "New validation loss minimum reached. Saving checkpoint\n",
      "Epoch: 81, Train loss: 25397568.953271028, Validation loss: 28048571.307692308\n",
      "Epoch: 82, Train loss: 25237235.523364484, Validation loss: 28267251.0\n",
      "Epoch: 83, Train loss: 25206316.943925235, Validation loss: 28149218.846153848\n",
      "New validation loss minimum reached. Saving checkpoint\n",
      "Epoch: 84, Train loss: 25194592.672897197, Validation loss: 27999247.769230768\n",
      "Epoch: 85, Train loss: 25174877.897196263, Validation loss: 28191795.615384616\n",
      "Epoch: 86, Train loss: 25116935.037383176, Validation loss: 28162247.692307692\n",
      "New validation loss minimum reached. Saving checkpoint\n",
      "Epoch: 87, Train loss: 25075958.953271028, Validation loss: 27979578.769230768\n",
      "Epoch: 88, Train loss: 24919579.40186916, Validation loss: 28212481.076923076\n",
      "Epoch: 89, Train loss: 25014097.514018692, Validation loss: 27982879.46153846\n",
      "Epoch: 90, Train loss: 24889646.14953271, Validation loss: 28138234.153846152\n",
      "Epoch: 91, Train loss: 24780243.523364484, Validation loss: 27982667.076923076\n",
      "New validation loss minimum reached. Saving checkpoint\n",
      "Epoch: 92, Train loss: 24780195.700934578, Validation loss: 27909019.153846152\n",
      "Epoch: 93, Train loss: 24660276.728971962, Validation loss: 28088870.153846152\n",
      "Epoch: 94, Train loss: 24652555.046728972, Validation loss: 27984319.230769232\n",
      "New validation loss minimum reached. Saving checkpoint\n",
      "Epoch: 95, Train loss: 24733417.299065422, Validation loss: 27889862.769230768\n",
      "New validation loss minimum reached. Saving checkpoint\n",
      "Epoch: 96, Train loss: 24315592.38317757, Validation loss: 27808594.307692308\n",
      "New validation loss minimum reached. Saving checkpoint\n",
      "Epoch: 97, Train loss: 24450056.168224297, Validation loss: 27771771.0\n",
      "Epoch: 98, Train loss: 24364032.392523363, Validation loss: 27804188.076923076\n",
      "New validation loss minimum reached. Saving checkpoint\n",
      "Epoch: 99, Train loss: 24470082.439252336, Validation loss: 27711484.615384616\n",
      "New validation loss minimum reached. Saving checkpoint\n",
      "Epoch: 100, Train loss: 24268533.074766356, Validation loss: 27704112.846153848\n",
      "New validation loss minimum reached. Saving checkpoint\n",
      "Epoch: 101, Train loss: 24156297.28037383, Validation loss: 27677292.53846154\n",
      "Epoch: 102, Train loss: 24203106.205607478, Validation loss: 27746610.923076924\n",
      "New validation loss minimum reached. Saving checkpoint\n",
      "Epoch: 103, Train loss: 24163714.14953271, Validation loss: 27566993.692307692\n",
      "Epoch: 104, Train loss: 24131304.233644858, Validation loss: 27570638.923076924\n",
      "Epoch: 105, Train loss: 24084612.822429907, Validation loss: 27727277.230769232\n",
      "New validation loss minimum reached. Saving checkpoint\n",
      "Epoch: 106, Train loss: 24070142.91121495, Validation loss: 27551416.384615384\n",
      "New validation loss minimum reached. Saving checkpoint\n",
      "Epoch: 107, Train loss: 23972928.700934578, Validation loss: 27403407.692307692\n",
      "Epoch: 108, Train loss: 23845536.859813083, Validation loss: 27504864.0\n",
      "Epoch: 109, Train loss: 23709320.485981308, Validation loss: 27420183.615384616\n",
      "New validation loss minimum reached. Saving checkpoint\n",
      "Epoch: 110, Train loss: 23777224.570093457, Validation loss: 27225966.153846152\n",
      "Epoch: 111, Train loss: 23669266.65420561, Validation loss: 27621340.153846152\n",
      "Epoch: 112, Train loss: 23696754.13084112, Validation loss: 27432146.692307692\n",
      "Epoch: 113, Train loss: 23648362.495327104, Validation loss: 27501709.692307692\n",
      "Epoch: 114, Train loss: 23742141.3364486, Validation loss: 27451379.692307692\n",
      "Epoch: 115, Train loss: 23594078.65420561, Validation loss: 27389003.46153846\n",
      "Epoch: 116, Train loss: 23544646.644859813, Validation loss: 27360024.153846152\n",
      "New validation loss minimum reached. Saving checkpoint\n",
      "Epoch: 117, Train loss: 23507927.831775703, Validation loss: 27181534.615384616\n",
      "Epoch: 118, Train loss: 23436167.831775703, Validation loss: 27337482.153846152\n",
      "Epoch: 119, Train loss: 23456013.485981308, Validation loss: 27304930.076923076\n",
      "Epoch: 120, Train loss: 23523728.728971962, Validation loss: 27209260.230769232\n",
      "Epoch: 121, Train loss: 23414680.794392522, Validation loss: 27228686.230769232\n",
      "Epoch: 122, Train loss: 23350802.58878505, Validation loss: 27189785.846153848\n",
      "New validation loss minimum reached. Saving checkpoint\n",
      "Epoch: 123, Train loss: 23342579.28037383, Validation loss: 27172991.46153846\n",
      "Epoch: 124, Train loss: 23220530.233644858, Validation loss: 27237711.846153848\n",
      "New validation loss minimum reached. Saving checkpoint\n",
      "Epoch: 125, Train loss: 23372360.523364484, Validation loss: 27120670.46153846\n",
      "Epoch: 126, Train loss: 23120226.177570093, Validation loss: 27200972.615384616\n",
      "Epoch: 127, Train loss: 23161128.906542055, Validation loss: 27231539.230769232\n",
      "Epoch: 128, Train loss: 23080049.158878505, Validation loss: 27217167.769230768\n",
      "Epoch: 129, Train loss: 23021065.794392522, Validation loss: 27282022.076923076\n",
      "Epoch: 130, Train loss: 23072686.700934578, Validation loss: 27197117.46153846\n",
      "Epoch: 131, Train loss: 23000420.728971962, Validation loss: 27233762.230769232\n",
      "Epoch: 132, Train loss: 23011279.294392522, Validation loss: 27324764.769230768\n",
      "New validation loss minimum reached. Saving checkpoint\n",
      "Epoch: 133, Train loss: 23022109.107476637, Validation loss: 27049492.846153848\n",
      "Epoch: 134, Train loss: 23040153.53271028, Validation loss: 27126567.230769232\n",
      "New validation loss minimum reached. Saving checkpoint\n",
      "Epoch: 135, Train loss: 22957498.74766355, Validation loss: 26916518.230769232\n",
      "Epoch: 136, Train loss: 22778042.80373832, Validation loss: 27179828.615384616\n",
      "Epoch: 137, Train loss: 22931979.25233645, Validation loss: 27227438.46153846\n",
      "Epoch: 138, Train loss: 22822064.392523363, Validation loss: 26994540.692307692\n",
      "Epoch: 139, Train loss: 22829165.485981308, Validation loss: 27041541.0\n",
      "New validation loss minimum reached. Saving checkpoint\n",
      "Epoch: 140, Train loss: 22688448.58878505, Validation loss: 26875352.923076924\n",
      "Epoch: 141, Train loss: 22914255.93457944, Validation loss: 26945053.692307692\n",
      "Epoch: 142, Train loss: 22897486.08411215, Validation loss: 26977074.076923076\n",
      "Epoch: 143, Train loss: 22697887.560747664, Validation loss: 26979356.153846152\n",
      "Epoch: 144, Train loss: 22746234.233644858, Validation loss: 27026014.307692308\n",
      "Epoch: 145, Train loss: 22595606.897196263, Validation loss: 27114927.692307692\n",
      "New validation loss minimum reached. Saving checkpoint\n",
      "Epoch: 146, Train loss: 22722128.53271028, Validation loss: 26833295.692307692\n",
      "Epoch: 147, Train loss: 22756519.59813084, Validation loss: 26883131.230769232\n",
      "Epoch: 148, Train loss: 22618308.224299066, Validation loss: 27006304.153846152\n",
      "Epoch: 149, Train loss: 22637496.897196263, Validation loss: 26984338.153846152\n",
      "Epoch: 150, Train loss: 22578623.691588785, Validation loss: 26886471.384615384\n",
      "Epoch: 151, Train loss: 22634577.224299066, Validation loss: 26864953.846153848\n",
      "Epoch: 152, Train loss: 22473577.728971962, Validation loss: 27007122.384615384\n",
      "Epoch: 153, Train loss: 22449308.86915888, Validation loss: 26874591.46153846\n",
      "New validation loss minimum reached. Saving checkpoint\n",
      "Epoch: 154, Train loss: 22468129.13084112, Validation loss: 26805240.46153846\n",
      "Epoch: 155, Train loss: 22450103.31775701, Validation loss: 27020859.846153848\n",
      "Epoch: 156, Train loss: 22579076.0, Validation loss: 27024006.230769232\n",
      "New validation loss minimum reached. Saving checkpoint\n",
      "Epoch: 157, Train loss: 22252542.8364486, Validation loss: 26779645.53846154\n",
      "Epoch: 158, Train loss: 22446847.873831775, Validation loss: 26800796.692307692\n",
      "Epoch: 159, Train loss: 22323357.925233644, Validation loss: 26933062.846153848\n",
      "Epoch: 160, Train loss: 22321439.6635514, Validation loss: 26884619.846153848\n",
      "New validation loss minimum reached. Saving checkpoint\n",
      "Epoch: 161, Train loss: 22201772.892523363, Validation loss: 26725046.53846154\n",
      "Epoch: 162, Train loss: 22301503.728971962, Validation loss: 26783846.923076924\n",
      "New validation loss minimum reached. Saving checkpoint\n",
      "Epoch: 163, Train loss: 22476639.579439253, Validation loss: 26652262.0\n",
      "Epoch: 164, Train loss: 22286354.906542055, Validation loss: 26701708.692307692\n",
      "Epoch: 165, Train loss: 22281533.757009346, Validation loss: 26764807.769230768\n",
      "Epoch: 166, Train loss: 22145324.957943924, Validation loss: 26688901.230769232\n",
      "Epoch: 167, Train loss: 22145790.373831775, Validation loss: 26883473.153846152\n",
      "Epoch: 168, Train loss: 22058030.976635516, Validation loss: 26671772.615384616\n",
      "Epoch: 169, Train loss: 22170581.38317757, Validation loss: 26701871.307692308\n",
      "Epoch: 170, Train loss: 22178408.21962617, Validation loss: 26864234.076923076\n",
      "Epoch: 171, Train loss: 22117876.38317757, Validation loss: 26670583.923076924\n",
      "Epoch: 172, Train loss: 22076336.289719626, Validation loss: 26688442.46153846\n",
      "Epoch: 173, Train loss: 22068101.191588785, Validation loss: 26665827.076923076\n",
      "New validation loss minimum reached. Saving checkpoint\n",
      "Epoch: 174, Train loss: 21988191.728971962, Validation loss: 26588353.923076924\n",
      "Epoch: 175, Train loss: 22063407.668224297, Validation loss: 26919275.692307692\n",
      "Epoch: 176, Train loss: 22061561.710280374, Validation loss: 26919345.846153848\n",
      "Epoch: 177, Train loss: 21931656.514018692, Validation loss: 26895216.923076924\n",
      "Epoch: 178, Train loss: 21938688.429906543, Validation loss: 26677688.46153846\n",
      "Epoch: 179, Train loss: 22086488.953271028, Validation loss: 26921985.46153846\n",
      "Epoch: 180, Train loss: 21900890.420560747, Validation loss: 26795468.615384616\n",
      "Epoch: 181, Train loss: 21906724.495327104, Validation loss: 26687164.846153848\n",
      "Epoch: 182, Train loss: 21971190.14953271, Validation loss: 26842522.153846152\n",
      "New validation loss minimum reached. Saving checkpoint\n",
      "Epoch: 183, Train loss: 21943634.53271028, Validation loss: 26537641.076923076\n",
      "New validation loss minimum reached. Saving checkpoint\n",
      "Epoch: 184, Train loss: 21902105.887850467, Validation loss: 26469184.692307692\n",
      "Epoch: 185, Train loss: 22087298.56542056, Validation loss: 26652161.53846154\n",
      "Epoch: 186, Train loss: 21888665.0, Validation loss: 26829733.923076924\n",
      "Epoch: 187, Train loss: 21797512.574766356, Validation loss: 26738848.615384616\n",
      "Epoch: 188, Train loss: 21815627.322429907, Validation loss: 26693212.230769232\n",
      "Epoch: 189, Train loss: 21728148.514018692, Validation loss: 26571192.53846154\n",
      "Epoch: 190, Train loss: 21803066.925233644, Validation loss: 26591069.076923076\n",
      "Epoch: 191, Train loss: 21759187.15420561, Validation loss: 26632029.076923076\n",
      "Epoch: 192, Train loss: 21628585.808411215, Validation loss: 26495497.384615384\n",
      "Epoch: 193, Train loss: 21794564.593457945, Validation loss: 26643293.384615384\n",
      "Epoch: 194, Train loss: 21795366.68691589, Validation loss: 26622241.46153846\n",
      "Epoch: 195, Train loss: 21660793.827102803, Validation loss: 26680626.53846154\n",
      "Epoch: 196, Train loss: 21661369.102803737, Validation loss: 26732315.923076924\n",
      "Epoch: 197, Train loss: 21569944.009345796, Validation loss: 26618038.692307692\n",
      "Epoch: 198, Train loss: 21552936.308411215, Validation loss: 26605213.307692308\n",
      "Epoch: 199, Train loss: 21590581.75233645, Validation loss: 26616525.692307692\n",
      "Epoch: 200, Train loss: 21548919.44859813, Validation loss: 26559790.46153846\n",
      "Epoch: 201, Train loss: 21648899.420560747, Validation loss: 26608671.384615384\n",
      "Epoch: 202, Train loss: 21562006.373831775, Validation loss: 26516036.076923076\n",
      "Epoch: 203, Train loss: 21587198.14953271, Validation loss: 26712609.230769232\n",
      "Early stopping condition reached. Stopping training\n"
     ]
    }
   ],
   "source": [
    "epochs = 300\n",
    "\n",
    "train(model, train_dataloader, validation_dataloader, epochs, criterion, optimizer, device)"
   ]
  },
  {
   "cell_type": "markdown",
   "metadata": {},
   "source": [
    "We can observe a similar scale for the validation loss compared to the models we have worked on prior. Again, the very high loss is due to the unnormalized price labels. Going through the logs, we can see that the validation loss decreased from 556914428.31 to 26712609.23 before early stopping kicked in.\n",
    "\n",
    "## Evaluation\n",
    "\n",
    "Now we can run predictions on the trained model. After we load in the test data, we still have some processing to do. Since we trained the model with normalized features, we will have to normalize the test dataset features before inference too in order to get predictions in similar scale. It is important that we transform/normalize the test data with the same scaler we used to normalize the training dataset to ensure that both datasets are scaled equally."
   ]
  },
  {
   "cell_type": "code",
   "execution_count": 16,
   "metadata": {},
   "outputs": [
    {
     "data": {
      "text/plain": [
       "<All keys matched successfully>"
      ]
     },
     "execution_count": 16,
     "metadata": {},
     "output_type": "execute_result"
    }
   ],
   "source": [
    "model.load_state_dict(torch.load('checkpoint.pth'))"
   ]
  },
  {
   "cell_type": "code",
   "execution_count": 17,
   "metadata": {},
   "outputs": [],
   "source": [
    "X_test_df = pd.read_csv(os.path.join(data_dir, 'test.csv'), header=None)\n",
    "y_test_df = pd.read_csv(os.path.join(data_dir, 'test_y.csv'), header=None)\n",
    "\n",
    "X_test = X_test_df.values\n",
    "y_test = y_test_df.values"
   ]
  },
  {
   "cell_type": "code",
   "execution_count": 18,
   "metadata": {},
   "outputs": [],
   "source": [
    "test_data_np = np.concatenate([y_test, X_test], axis=1)\n",
    "test_data_np_y = test_data_np[:, 0]\n",
    "test_data_np = min_max_scaler.transform(test_data_np)\n",
    "test_data_np[:, 0] = test_data_np_y"
   ]
  },
  {
   "cell_type": "code",
   "execution_count": 19,
   "metadata": {
    "scrolled": true
   },
   "outputs": [],
   "source": [
    "test_input = torch.from_numpy(test_data_np[:,1:]).float()\n",
    "\n",
    "model.eval()\n",
    "\n",
    "with torch.no_grad():\n",
    "    predictions = model(test_input.to(device))\n",
    "    \n",
    "predictions = predictions.cpu().detach().numpy()\n",
    "labels = y_test"
   ]
  },
  {
   "cell_type": "code",
   "execution_count": 20,
   "metadata": {},
   "outputs": [],
   "source": [
    "fig_dir = 'fig'\n",
    "\n",
    "if not os.path.exists(fig_dir):\n",
    "    os.mkdir(fig_dir)"
   ]
  },
  {
   "cell_type": "code",
   "execution_count": 21,
   "metadata": {},
   "outputs": [
    {
     "data": {
      "image/png": "[encoded data removed]",
      "text/plain": [
       "<Figure size 432x288 with 1 Axes>"
      ]
     },
     "metadata": {
      "needs_background": "light"
     },
     "output_type": "display_data"
    }
   ],
   "source": [
    "plt.scatter(labels, predictions, alpha=1/5)\n",
    "plt.xlabel(\"True price\")\n",
    "plt.ylabel(\"Predicted price\")\n",
    "plt.title(\"PyTorch model\")\n",
    "plt.savefig(os.path.join(fig_dir, 'pytorch_pred.jpg'))"
   ]
  },
  {
   "cell_type": "markdown",
   "metadata": {},
   "source": [
    "We can observe from the plot that our PyTorch model performed similarly to the XGBoost model - a mostly straight plot but with some outliers.\n",
    "\n",
    "### R-squared score\n",
    "\n",
    "To measure accuracy, we will again use R-squared score."
   ]
  },
  {
   "cell_type": "code",
   "execution_count": 22,
   "metadata": {},
   "outputs": [
    {
     "name": "stdout",
     "output_type": "stream",
     "text": [
      "R-squared score: 0.7699063746869551\n"
     ]
    }
   ],
   "source": [
    "from sklearn.metrics import r2_score\n",
    "\n",
    "score = r2_score(labels, predictions)\n",
    "\n",
    "print('R-squared score: {}'.format(score))"
   ]
  },
  {
   "cell_type": "markdown",
   "metadata": {},
   "source": [
    "The PyTorch model's accuracy is a little below the XGBoost model at 0.77. Along with this, other metrics below are also very close to that of the XGBoost model."
   ]
  },
  {
   "cell_type": "code",
   "execution_count": 23,
   "metadata": {},
   "outputs": [
    {
     "name": "stdout",
     "output_type": "stream",
     "text": [
      "Min distance: 0.056640625\n",
      "Max distance: 67580.33642578125\n",
      "Mean distance: 3468.076180230625\n"
     ]
    }
   ],
   "source": [
    "distances = np.abs(labels - predictions)\n",
    "\n",
    "max_distance = np.max(distances)\n",
    "min_distance = np.min(distances)\n",
    "mean_distance = np.mean(distances)\n",
    "\n",
    "print('Min distance: {}'.format(min_distance))\n",
    "print('Max distance: {}'.format(max_distance))\n",
    "print('Mean distance: {}'.format(mean_distance))"
   ]
  },
  {
   "cell_type": "markdown",
   "metadata": {},
   "source": [
    "## Conclusion"
   ]
  },
  {
   "cell_type": "markdown",
   "metadata": {},
   "source": [
    "The models we have built and trained seem to be generally performing well except for the alarmingly high value of max distance for each of them. This high value is also most likely what is causing our accuracy score to not be in the .80-.90 range. Let's take a look at what this max distance actually is."
   ]
  },
  {
   "cell_type": "code",
   "execution_count": 24,
   "metadata": {},
   "outputs": [
    {
     "name": "stdout",
     "output_type": "stream",
     "text": [
      "Max distance car true price: 75000.0\n"
     ]
    }
   ],
   "source": [
    "encoded_df = pd.read_csv(os.path.join(data_dir, 'vehicles_encoded.csv'))\n",
    "\n",
    "columns = encoded_df.columns\n",
    "\n",
    "X_test_df.columns = columns[2:]\n",
    "\n",
    "max_distance_row_idx = np.unravel_index(np.argmax(distances), distances.shape)[0]\n",
    "\n",
    "max_row_df = X_test_df.iloc[[max_distance_row_idx]]\n",
    "\n",
    "print('Max distance car true price: {}'.format(labels[max_row_df.index[0]][0]))"
   ]
  },
  {
   "cell_type": "markdown",
   "metadata": {},
   "source": [
    "If take a look at the actual car price of the car that has the max distance from the predicted price, it is 75000. In order to put this price in perspective, we need to find the car's model."
   ]
  },
  {
   "cell_type": "code",
   "execution_count": 25,
   "metadata": {},
   "outputs": [
    {
     "name": "stdout",
     "output_type": "stream",
     "text": [
      "Max distance car model: model_hyundai-elantra\n"
     ]
    }
   ],
   "source": [
    "model_columns = [c for c in X_test_df.columns if c.startswith('model_')]\n",
    "\n",
    "max_row_df_models = max_row_df[model_columns]\n",
    "\n",
    "model_idx = np.where(max_row_df_models.values.squeeze() == 1)[0][0]\n",
    "\n",
    "model = model_columns[model_idx]\n",
    "\n",
    "print('Max distance car model: {}'.format(model))"
   ]
  },
  {
   "cell_type": "markdown",
   "metadata": {},
   "source": [
    "After finding out that the car is a Hyundai Elantra, a quick search on how much it is on the US used cars market yields that its price ranges from 5000-11000 USD, way beyond its label price in our dataset."
   ]
  },
  {
   "cell_type": "code",
   "execution_count": 26,
   "metadata": {},
   "outputs": [
    {
     "name": "stdout",
     "output_type": "stream",
     "text": [
      "Max distance car model mean price: 12317.555970149253\n"
     ]
    }
   ],
   "source": [
    "test_data = pd.concat([pd.DataFrame(data={'price':y_test.squeeze()}), X_test_df], axis=1)\n",
    "\n",
    "test_df_model_idx = list(test_data.columns).index(model)\n",
    "\n",
    "model_test_df = test_data[test_data.iloc[:, test_df_model_idx] == 1]\n",
    "\n",
    "print('Max distance car model mean price: {}'.format(model_test_df.iloc[:, 0].mean()))"
   ]
  },
  {
   "cell_type": "markdown",
   "metadata": {},
   "source": [
    "We can also put the high price in context in terms of our dataset by getting the mean price of all Hyundai Elantra cars we have in our test dataset. We get a mean of 12000 USD. This, again, is way below the label. So we can conclude that this is an outlier in the dataset.\n",
    "\n",
    "This actually proves that our model works. The objective of this project is to build a model that can estimate a market-average price for used cars in order to help buyers and sellers avoid inflated car prices on the consumer-to-consumer market.\n",
    "\n",
    "So when John Doe heads to Craigslist looking to buy a used Hyundai Elantra priced at 75000 USD, running its specs on our model will make him realize that this particular Hyundai Elantra's price is well above market and he should look somewhere else."
   ]
  },
  {
   "cell_type": "code",
   "execution_count": 31,
   "metadata": {},
   "outputs": [
    {
     "data": {
      "image/png": "[encoded data removed]",
      "text/plain": [
       "<Figure size 432x288 with 1 Axes>"
      ]
     },
     "metadata": {
      "needs_background": "light"
     },
     "output_type": "display_data"
    }
   ],
   "source": [
    "plt.hist(model_test_df.iloc[:, 0])\n",
    "plt.xlabel('price')\n",
    "plt.ylabel('count')\n",
    "plt.title('Hyundai Elantra price distribution')\n",
    "plt.savefig(os.path.join(fig_dir, 'elantra_price_distribution'))"
   ]
  }
 ],
 "metadata": {
  "kernelspec": {
   "display_name": "Python 3",
   "language": "python",
   "name": "python3"
  },
  "language_info": {
   "codemirror_mode": {
    "name": "ipython",
    "version": 3
   },
   "file_extension": ".py",
   "mimetype": "text/x-python",
   "name": "python",
   "nbconvert_exporter": "python",
   "pygments_lexer": "ipython3",
   "version": "3.7.4"
  }
 },
 "nbformat": 4,
 "nbformat_minor": 4
}
